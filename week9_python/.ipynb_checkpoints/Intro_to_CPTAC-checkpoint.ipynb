{
 "cells": [
  {
   "cell_type": "markdown",
   "id": "9f3b6a87",
   "metadata": {},
   "source": [
    "# Introduction to CPTAC and Proteomics\n",
    "\n",
    "This document will take you through the basics of CPTAC and analyzing proteomic data in python. Let's get started!"
   ]
  },
  {
   "cell_type": "markdown",
   "id": "64ad08b5",
   "metadata": {},
   "source": [
    "## Setting up your working directory\n",
    "\n",
    "Set your working directory to your analysis_data folder."
   ]
  },
  {
   "cell_type": "code",
   "execution_count": 1,
   "id": "a53acaad",
   "metadata": {},
   "outputs": [],
   "source": [
    "import os\n",
    "\n",
    "os.chdir('/Users/meganrajan/Documents/qbio490/qbio_490_meganrajan/analysis_data')"
   ]
  },
  {
   "cell_type": "markdown",
   "id": "bcf734ad",
   "metadata": {},
   "source": [
    "### Start exploring CPTAC with `cptac`\n",
    "Similar to TCGAbiolinks, we need to load the package and download the data before using.\n",
    "1. Import the package (`cptac`).\n",
    "2. Look at the data sets available to us with the list_datasets() function. As a reminder, remember the package_name.method() syntax!\n",
    "3. Download the cancer you'll be working with. \n",
    "4. Load it into our python environment."
   ]
  },
  {
   "cell_type": "code",
   "execution_count": 2,
   "id": "3274cad7",
   "metadata": {},
   "outputs": [
    {
     "data": {
      "text/html": [
       "<div>\n",
       "<style scoped>\n",
       "    .dataframe tbody tr th:only-of-type {\n",
       "        vertical-align: middle;\n",
       "    }\n",
       "\n",
       "    .dataframe tbody tr th {\n",
       "        vertical-align: top;\n",
       "    }\n",
       "\n",
       "    .dataframe thead th {\n",
       "        text-align: right;\n",
       "    }\n",
       "</style>\n",
       "<table border=\"1\" class=\"dataframe\">\n",
       "  <thead>\n",
       "    <tr style=\"text-align: right;\">\n",
       "      <th></th>\n",
       "      <th>Description</th>\n",
       "      <th>Data reuse status</th>\n",
       "      <th>Publication link</th>\n",
       "    </tr>\n",
       "    <tr>\n",
       "      <th>Dataset name</th>\n",
       "      <th></th>\n",
       "      <th></th>\n",
       "      <th></th>\n",
       "    </tr>\n",
       "  </thead>\n",
       "  <tbody>\n",
       "    <tr>\n",
       "      <th>Brca</th>\n",
       "      <td>breast cancer</td>\n",
       "      <td>no restrictions</td>\n",
       "      <td>https://pubmed.ncbi.nlm.nih.gov/33212010/</td>\n",
       "    </tr>\n",
       "    <tr>\n",
       "      <th>Ccrcc</th>\n",
       "      <td>clear cell renal cell carcinoma (kidney)</td>\n",
       "      <td>no restrictions</td>\n",
       "      <td>https://pubmed.ncbi.nlm.nih.gov/31675502/</td>\n",
       "    </tr>\n",
       "    <tr>\n",
       "      <th>Colon</th>\n",
       "      <td>colorectal cancer</td>\n",
       "      <td>no restrictions</td>\n",
       "      <td>https://pubmed.ncbi.nlm.nih.gov/31031003/</td>\n",
       "    </tr>\n",
       "    <tr>\n",
       "      <th>Endometrial</th>\n",
       "      <td>endometrial carcinoma (uterine)</td>\n",
       "      <td>no restrictions</td>\n",
       "      <td>https://pubmed.ncbi.nlm.nih.gov/32059776/</td>\n",
       "    </tr>\n",
       "    <tr>\n",
       "      <th>Gbm</th>\n",
       "      <td>glioblastoma</td>\n",
       "      <td>no restrictions</td>\n",
       "      <td>https://pubmed.ncbi.nlm.nih.gov/33577785/</td>\n",
       "    </tr>\n",
       "    <tr>\n",
       "      <th>Hnscc</th>\n",
       "      <td>head and neck squamous cell carcinoma</td>\n",
       "      <td>no restrictions</td>\n",
       "      <td>https://pubmed.ncbi.nlm.nih.gov/33417831/</td>\n",
       "    </tr>\n",
       "    <tr>\n",
       "      <th>Lscc</th>\n",
       "      <td>lung squamous cell carcinoma</td>\n",
       "      <td>no restrictions</td>\n",
       "      <td>https://pubmed.ncbi.nlm.nih.gov/34358469/</td>\n",
       "    </tr>\n",
       "    <tr>\n",
       "      <th>Luad</th>\n",
       "      <td>lung adenocarcinoma</td>\n",
       "      <td>no restrictions</td>\n",
       "      <td>https://pubmed.ncbi.nlm.nih.gov/32649874/</td>\n",
       "    </tr>\n",
       "    <tr>\n",
       "      <th>Ovarian</th>\n",
       "      <td>high grade serous ovarian cancer</td>\n",
       "      <td>no restrictions</td>\n",
       "      <td>https://pubmed.ncbi.nlm.nih.gov/27372738/</td>\n",
       "    </tr>\n",
       "    <tr>\n",
       "      <th>Pdac</th>\n",
       "      <td>pancreatic ductal adenocarcinoma</td>\n",
       "      <td>no restrictions</td>\n",
       "      <td>https://pubmed.ncbi.nlm.nih.gov/34534465/</td>\n",
       "    </tr>\n",
       "    <tr>\n",
       "      <th>UcecConf</th>\n",
       "      <td>endometrial confirmatory carcinoma</td>\n",
       "      <td>password access only</td>\n",
       "      <td>unpublished</td>\n",
       "    </tr>\n",
       "    <tr>\n",
       "      <th>GbmConf</th>\n",
       "      <td>glioblastoma confirmatory</td>\n",
       "      <td>password access only</td>\n",
       "      <td>unpublished</td>\n",
       "    </tr>\n",
       "  </tbody>\n",
       "</table>\n",
       "</div>"
      ],
      "text/plain": [
       "                                           Description     Data reuse status  \\\n",
       "Dataset name                                                                   \n",
       "Brca                                     breast cancer       no restrictions   \n",
       "Ccrcc         clear cell renal cell carcinoma (kidney)       no restrictions   \n",
       "Colon                                colorectal cancer       no restrictions   \n",
       "Endometrial            endometrial carcinoma (uterine)       no restrictions   \n",
       "Gbm                                       glioblastoma       no restrictions   \n",
       "Hnscc            head and neck squamous cell carcinoma       no restrictions   \n",
       "Lscc                      lung squamous cell carcinoma       no restrictions   \n",
       "Luad                               lung adenocarcinoma       no restrictions   \n",
       "Ovarian               high grade serous ovarian cancer       no restrictions   \n",
       "Pdac                  pancreatic ductal adenocarcinoma       no restrictions   \n",
       "UcecConf            endometrial confirmatory carcinoma  password access only   \n",
       "GbmConf                      glioblastoma confirmatory  password access only   \n",
       "\n",
       "                                       Publication link  \n",
       "Dataset name                                             \n",
       "Brca          https://pubmed.ncbi.nlm.nih.gov/33212010/  \n",
       "Ccrcc         https://pubmed.ncbi.nlm.nih.gov/31675502/  \n",
       "Colon         https://pubmed.ncbi.nlm.nih.gov/31031003/  \n",
       "Endometrial   https://pubmed.ncbi.nlm.nih.gov/32059776/  \n",
       "Gbm           https://pubmed.ncbi.nlm.nih.gov/33577785/  \n",
       "Hnscc         https://pubmed.ncbi.nlm.nih.gov/33417831/  \n",
       "Lscc          https://pubmed.ncbi.nlm.nih.gov/34358469/  \n",
       "Luad          https://pubmed.ncbi.nlm.nih.gov/32649874/  \n",
       "Ovarian       https://pubmed.ncbi.nlm.nih.gov/27372738/  \n",
       "Pdac          https://pubmed.ncbi.nlm.nih.gov/34534465/  \n",
       "UcecConf                                    unpublished  \n",
       "GbmConf                                     unpublished  "
      ]
     },
     "execution_count": 2,
     "metadata": {},
     "output_type": "execute_result"
    }
   ],
   "source": [
    "# 1. Import cptac\n",
    "import cptac\n",
    "\n",
    "# 2. Examine the data sets available with list_datasets()\n",
    "cptac.list_datasets()"
   ]
  },
  {
   "cell_type": "code",
   "execution_count": 3,
   "id": "aeb53aa2",
   "metadata": {},
   "outputs": [
    {
     "name": "stdout",
     "output_type": "stream",
     "text": [
      "Checking that pdac index is up-to-date...\r"
     ]
    },
    {
     "name": "stderr",
     "output_type": "stream",
     "text": [
      "cptac warning: Your version of cptac (1.1.2) is out-of-date. Latest is 1.5.13. Please run 'pip install --upgrade cptac' to update it. (/Users/meganrajan/miniconda3/envs/qbio_490_meganrajan/lib/python3.9/threading.py, line 917)\n"
     ]
    },
    {
     "name": "stdout",
     "output_type": "stream",
     "text": [
      "                                         \r"
     ]
    }
   ],
   "source": [
    "# 3. Download the cancer data set -- fill in dataset!\n",
    "cptac.download(dataset=\"pdac\")\n",
    "\n",
    "# 4. Load the cancer data\n",
    "pdac = cptac.Pdac()"
   ]
  },
  {
   "cell_type": "markdown",
   "id": "fadf54d4",
   "metadata": {},
   "source": [
    "Now, we have our object containing a bunch of data. We can use the list_data() function the data available for the cancer dataset.\n",
    "<br></br>\n",
    "In addition to the proteomics data, we can also accesss the accompanying transcriptomics, CNV, etc. using this object. We will focus on the omics which we have already seen for this course; however, other data present in this dataset are also pretty interesting. Finally, many proteins can't be identified very well, so they won't appear as a column (for example, APC isn't in the proteomics data set).\n",
    "<br></br>\n",
    "**Exercise 1.1** Call the list_data() function from the object to examine the different data contained in the object. Much like calling functions from a package, we can use the cancer.function() syntax.\n",
    "\n",
    "* How many patients do you think there are in this dataset? (Make an educated guess about this from the dimensions - we'll confirm your answer later on)"
   ]
  },
  {
   "cell_type": "code",
   "execution_count": 4,
   "id": "f96afeaf",
   "metadata": {},
   "outputs": [
    {
     "name": "stdout",
     "output_type": "stream",
     "text": [
      "Below are the dataframes contained in this dataset and their dimensions:\n",
      "\n",
      "clinical\n",
      "\t238 rows\n",
      "\t39 columns\n",
      "CNV\n",
      "\t140 rows\n",
      "\t19906 columns\n",
      "derived_molecular\n",
      "\t140 rows\n",
      "\t49 columns\n",
      "gene_fusion\n",
      "\t1212 rows\n",
      "\t7 columns\n",
      "miRNA\n",
      "\t158 rows\n",
      "\t2416 columns\n",
      "phosphoproteomics\n",
      "\t215 rows\n",
      "\t51469 columns\n",
      "proteomics\n",
      "\t215 rows\n",
      "\t11662 columns\n",
      "somatic_mutation\n",
      "\t6395 rows\n",
      "\t3 columns\n",
      "transcriptomics\n",
      "\t161 rows\n",
      "\t28057 columns\n"
     ]
    }
   ],
   "source": [
    "# Run the list_data() function\n",
    "pdac.list_data()"
   ]
  },
  {
   "cell_type": "markdown",
   "id": "f3d71ec2-6438-4b8e-8478-59a40b0fde82",
   "metadata": {},
   "source": [
    "There are 238 number of patients in this data set."
   ]
  },
  {
   "cell_type": "markdown",
   "id": "ab6034bd",
   "metadata": {},
   "source": [
    "**Exercise 1.2** Use the get_proteomics() function to store the proteomics data into a new data frame."
   ]
  },
  {
   "cell_type": "code",
   "execution_count": 5,
   "id": "2f7abc05",
   "metadata": {},
   "outputs": [],
   "source": [
    "protein_data = pdac.get_proteomics() # get the proteomics data\n",
    "protein_data # view the data\n",
    "\n",
    "\n",
    "# Uncomment and run this command after you get the data, you don't really need to know what it does but it collapses\n",
    "# the column names and gets rid of the database_IDs which will make our lives much easier!\n",
    "\n",
    "protein_data.columns = protein_data.columns.get_level_values(0) \n"
   ]
  },
  {
   "cell_type": "markdown",
   "id": "1188f104",
   "metadata": {},
   "source": [
    "## (2) Exploring the Data\n",
    "\n",
    "As mentioned earlier, `cptac` data is in the form of `pandas` dataframes. Let's load that and `numpy`. \n",
    "\n",
    "**Exercise 2.1** Import numpy and pandas with their usual shortened names (pd and np)."
   ]
  },
  {
   "cell_type": "code",
   "execution_count": 6,
   "id": "8ace4453",
   "metadata": {
    "scrolled": true
   },
   "outputs": [],
   "source": [
    "# import packages here\n",
    "import pandas as pd\n",
    "import numpy as np"
   ]
  },
  {
   "cell_type": "markdown",
   "id": "2b18a548",
   "metadata": {},
   "source": [
    "Remember that we can access the rows/column names of a data frame in two ways:\n",
    "1. We can get the row and column names together in a list with the `axes` attribute.\n",
    "2. We can get the row or column names individually in the `index` (row) or `columns` (column) attribute.\n",
    "<br></br>\n",
    "**Exercise 2.2** Print the axes, index, and columns of the protein_data object. Then, determine its dimensions using the shape attribute. Finally, answer the following questions:\n",
    "\n",
    "* How many rows and columns are there in the data frame?\n",
    "* What do the rows and columns represent?\n",
    "* How many patients are there?\n",
    "* What about proteins?"
   ]
  },
  {
   "cell_type": "code",
   "execution_count": 31,
   "id": "1501f26c",
   "metadata": {},
   "outputs": [
    {
     "name": "stdout",
     "output_type": "stream",
     "text": [
      "[Index(['C3L-00017', 'C3L-00102', 'C3L-00189', 'C3L-00277', 'C3L-00401',\n",
      "       'C3L-00589', 'C3L-00598', 'C3L-00599', 'C3L-00622', 'C3L-00625',\n",
      "       ...\n",
      "       'C3N-03069.N', 'C3N-03211.N', 'C3N-03426.N', 'C3N-03440.N',\n",
      "       'C3N-03780.N', 'C3N-03839.N', 'C3N-03840.N', 'C3N-03884.N',\n",
      "       'C3N-04119.N', 'C3N-04282.N'],\n",
      "      dtype='object', name='Patient_ID', length=215), Index(['A1BG', 'A1CF', 'A2M', 'A2ML1', 'A4GALT', 'A4GNT', 'AAAS', 'AACS',\n",
      "       'AADAC', 'AADAT',\n",
      "       ...\n",
      "       'ZSWIM9', 'ZW10', 'ZWILCH', 'ZWINT', 'ZXDA', 'ZXDC', 'ZYG11B', 'ZYX',\n",
      "       'ZZEF1', 'ZZZ3'],\n",
      "      dtype='object', name='Name', length=11662)]\n",
      "Index(['C3L-00017', 'C3L-00102', 'C3L-00189', 'C3L-00277', 'C3L-00401',\n",
      "       'C3L-00589', 'C3L-00598', 'C3L-00599', 'C3L-00622', 'C3L-00625',\n",
      "       ...\n",
      "       'C3N-03069.N', 'C3N-03211.N', 'C3N-03426.N', 'C3N-03440.N',\n",
      "       'C3N-03780.N', 'C3N-03839.N', 'C3N-03840.N', 'C3N-03884.N',\n",
      "       'C3N-04119.N', 'C3N-04282.N'],\n",
      "      dtype='object', name='Patient_ID', length=215)\n",
      "Index(['A1BG', 'A1CF', 'A2M', 'A2ML1', 'A4GALT', 'A4GNT', 'AAAS', 'AACS',\n",
      "       'AADAC', 'AADAT',\n",
      "       ...\n",
      "       'ZSWIM9', 'ZW10', 'ZWILCH', 'ZWINT', 'ZXDA', 'ZXDC', 'ZYG11B', 'ZYX',\n",
      "       'ZZEF1', 'ZZZ3'],\n",
      "      dtype='object', name='Name', length=11662)\n"
     ]
    }
   ],
   "source": [
    "## Explore the data frame here and answer questions\n",
    "print(protein_data.axes) # There are 11662 columns\n",
    "print(protein_data.index)\n",
    "print(protein_data.columns)\n",
    "\n",
    "# There are 215 patients, and 11662 proteins"
   ]
  },
  {
   "cell_type": "markdown",
   "id": "6db06758",
   "metadata": {},
   "source": [
    "Remember we can access data by name using `.loc[]` and `.iloc[]`. Since this dataset is really large, we won't really use `.iloc[]` which accesses by index. To get the protein expression information for a specific patient, therefore, we would run something like this: "
   ]
  },
  {
   "cell_type": "code",
   "execution_count": 37,
   "id": "5158710b",
   "metadata": {},
   "outputs": [],
   "source": [
    "# Correct usage of .loc to get the 'A1BG' protein values for all patients\n",
    "protein_expression_A1BG = protein_data.loc[:, 'A1BG']\n",
    " # this is the general case, you have to fill in actual IDs/protein names"
   ]
  },
  {
   "cell_type": "markdown",
   "id": "0c4e080d",
   "metadata": {},
   "source": [
    "**Exercise 2.3** Remember that the numerical data in CPTAC is the relative fold change, not an absolute value/count. Given this, what kind of number would represent lower relative expression? What kind of number would represent higher relative expression? (Hint: reference level is 0) "
   ]
  },
  {
   "cell_type": "code",
   "execution_count": null,
   "id": "44728344-66e2-4de4-a992-9787a3c464f9",
   "metadata": {},
   "outputs": [],
   "source": [
    "# ## Answer question in comment form here\n",
    "# Greater than 0 = higher relative expression, indicating that the protein's expression is increased compared to the reference level. Ex. 1.5\n",
    "# Less than 0 = lower relative expression, suggesting that the protein's expression is decreased compared to the reference level. Ex. -1.5"
   ]
  },
  {
   "cell_type": "markdown",
   "id": "ccdaaa65",
   "metadata": {},
   "source": [
    "**Exericse 2.4**\n",
    "\n",
    "Print the relative fold change of 5th patient in the `TP53` protein. Then, interpret this value -- does this patient have higher or lower protein levels than the reference? (Hint: use .loc[] and remember that a `:` can be used in either the row or column slot to access every row or every column.)\n"
   ]
  },
  {
   "cell_type": "code",
   "execution_count": null,
   "id": "112a5055",
   "metadata": {},
   "outputs": [],
   "source": [
    "## write code here\n",
    "foldchange = protein_data.loc[protein_data.index[5], 'TP53']\n",
    "foldchange\n",
    "# this patient has higher protein levels than the reference"
   ]
  },
  {
   "cell_type": "markdown",
   "id": "e66937a6",
   "metadata": {},
   "source": [
    "### Using Boolean indexing\n",
    "\n",
    "In R, we used the `ifelse()` function very heavily to assign categories, such as classifying patients as \"old\" or \"young\". In Python, we have the `where(COND, TRUE_VAL, FALSE_VAL)` function from numpy, which works extremely similarly to ifelse(). That is:\n",
    "\n",
    "   1. The first parameter is the condition (a boolean vector; i.e. Trues and Falses).\n",
    "   2. The second parameter is the value to fill the True conditions.\n",
    "   3. The third parameter is the value to fil lthe False conditions.\n",
    "    \n",
    "The following example (split into the four code blocks below) shows how to apply the `where()` function, in the context of telling if a number is odd or even."
   ]
  },
  {
   "cell_type": "code",
   "execution_count": 10,
   "id": "877c4f62",
   "metadata": {
    "scrolled": true
   },
   "outputs": [
    {
     "data": {
      "text/html": [
       "<div>\n",
       "<style scoped>\n",
       "    .dataframe tbody tr th:only-of-type {\n",
       "        vertical-align: middle;\n",
       "    }\n",
       "\n",
       "    .dataframe tbody tr th {\n",
       "        vertical-align: top;\n",
       "    }\n",
       "\n",
       "    .dataframe thead th {\n",
       "        text-align: right;\n",
       "    }\n",
       "</style>\n",
       "<table border=\"1\" class=\"dataframe\">\n",
       "  <thead>\n",
       "    <tr style=\"text-align: right;\">\n",
       "      <th></th>\n",
       "      <th>nums</th>\n",
       "    </tr>\n",
       "  </thead>\n",
       "  <tbody>\n",
       "    <tr>\n",
       "      <th>0</th>\n",
       "      <td>0</td>\n",
       "    </tr>\n",
       "    <tr>\n",
       "      <th>1</th>\n",
       "      <td>1</td>\n",
       "    </tr>\n",
       "    <tr>\n",
       "      <th>2</th>\n",
       "      <td>2</td>\n",
       "    </tr>\n",
       "    <tr>\n",
       "      <th>3</th>\n",
       "      <td>3</td>\n",
       "    </tr>\n",
       "    <tr>\n",
       "      <th>4</th>\n",
       "      <td>4</td>\n",
       "    </tr>\n",
       "    <tr>\n",
       "      <th>5</th>\n",
       "      <td>5</td>\n",
       "    </tr>\n",
       "  </tbody>\n",
       "</table>\n",
       "</div>"
      ],
      "text/plain": [
       "   nums\n",
       "0     0\n",
       "1     1\n",
       "2     2\n",
       "3     3\n",
       "4     4\n",
       "5     5"
      ]
     },
     "execution_count": 10,
     "metadata": {},
     "output_type": "execute_result"
    }
   ],
   "source": [
    "# first let's create our example array\n",
    "\n",
    "number_example_array = pd.DataFrame({\"nums\": [0, 1, 2, 3, 4, 5]})\n",
    "number_example_array"
   ]
  },
  {
   "cell_type": "code",
   "execution_count": 11,
   "id": "877ea8ef",
   "metadata": {},
   "outputs": [
    {
     "data": {
      "text/html": [
       "<div>\n",
       "<style scoped>\n",
       "    .dataframe tbody tr th:only-of-type {\n",
       "        vertical-align: middle;\n",
       "    }\n",
       "\n",
       "    .dataframe tbody tr th {\n",
       "        vertical-align: top;\n",
       "    }\n",
       "\n",
       "    .dataframe thead th {\n",
       "        text-align: right;\n",
       "    }\n",
       "</style>\n",
       "<table border=\"1\" class=\"dataframe\">\n",
       "  <thead>\n",
       "    <tr style=\"text-align: right;\">\n",
       "      <th></th>\n",
       "      <th>nums</th>\n",
       "    </tr>\n",
       "  </thead>\n",
       "  <tbody>\n",
       "    <tr>\n",
       "      <th>0</th>\n",
       "      <td>False</td>\n",
       "    </tr>\n",
       "    <tr>\n",
       "      <th>1</th>\n",
       "      <td>True</td>\n",
       "    </tr>\n",
       "    <tr>\n",
       "      <th>2</th>\n",
       "      <td>False</td>\n",
       "    </tr>\n",
       "    <tr>\n",
       "      <th>3</th>\n",
       "      <td>True</td>\n",
       "    </tr>\n",
       "    <tr>\n",
       "      <th>4</th>\n",
       "      <td>False</td>\n",
       "    </tr>\n",
       "    <tr>\n",
       "      <th>5</th>\n",
       "      <td>True</td>\n",
       "    </tr>\n",
       "  </tbody>\n",
       "</table>\n",
       "</div>"
      ],
      "text/plain": [
       "    nums\n",
       "0  False\n",
       "1   True\n",
       "2  False\n",
       "3   True\n",
       "4  False\n",
       "5   True"
      ]
     },
     "execution_count": 11,
     "metadata": {},
     "output_type": "execute_result"
    }
   ],
   "source": [
    "# now, let's make a boolean vector where odds will be True, evens will be False\n",
    "boolean_vector = (number_example_array % 2 == 1)\n",
    "boolean_vector"
   ]
  },
  {
   "cell_type": "code",
   "execution_count": 12,
   "id": "11f0d23e",
   "metadata": {},
   "outputs": [
    {
     "data": {
      "text/html": [
       "<div>\n",
       "<style scoped>\n",
       "    .dataframe tbody tr th:only-of-type {\n",
       "        vertical-align: middle;\n",
       "    }\n",
       "\n",
       "    .dataframe tbody tr th {\n",
       "        vertical-align: top;\n",
       "    }\n",
       "\n",
       "    .dataframe thead th {\n",
       "        text-align: right;\n",
       "    }\n",
       "</style>\n",
       "<table border=\"1\" class=\"dataframe\">\n",
       "  <thead>\n",
       "    <tr style=\"text-align: right;\">\n",
       "      <th></th>\n",
       "      <th>nums</th>\n",
       "      <th>boolean_vector</th>\n",
       "    </tr>\n",
       "  </thead>\n",
       "  <tbody>\n",
       "    <tr>\n",
       "      <th>0</th>\n",
       "      <td>0</td>\n",
       "      <td>False</td>\n",
       "    </tr>\n",
       "    <tr>\n",
       "      <th>1</th>\n",
       "      <td>1</td>\n",
       "      <td>True</td>\n",
       "    </tr>\n",
       "    <tr>\n",
       "      <th>2</th>\n",
       "      <td>2</td>\n",
       "      <td>False</td>\n",
       "    </tr>\n",
       "    <tr>\n",
       "      <th>3</th>\n",
       "      <td>3</td>\n",
       "      <td>True</td>\n",
       "    </tr>\n",
       "    <tr>\n",
       "      <th>4</th>\n",
       "      <td>4</td>\n",
       "      <td>False</td>\n",
       "    </tr>\n",
       "    <tr>\n",
       "      <th>5</th>\n",
       "      <td>5</td>\n",
       "      <td>True</td>\n",
       "    </tr>\n",
       "  </tbody>\n",
       "</table>\n",
       "</div>"
      ],
      "text/plain": [
       "   nums  boolean_vector\n",
       "0     0           False\n",
       "1     1            True\n",
       "2     2           False\n",
       "3     3            True\n",
       "4     4           False\n",
       "5     5            True"
      ]
     },
     "execution_count": 12,
     "metadata": {},
     "output_type": "execute_result"
    }
   ],
   "source": [
    "# then add this vector as a column in our array (we could do this and the above in one step)\n",
    "number_example_array[\"boolean_vector\"] = boolean_vector\n",
    "number_example_array"
   ]
  },
  {
   "cell_type": "code",
   "execution_count": 13,
   "id": "e85d10e5",
   "metadata": {},
   "outputs": [
    {
     "data": {
      "text/html": [
       "<div>\n",
       "<style scoped>\n",
       "    .dataframe tbody tr th:only-of-type {\n",
       "        vertical-align: middle;\n",
       "    }\n",
       "\n",
       "    .dataframe tbody tr th {\n",
       "        vertical-align: top;\n",
       "    }\n",
       "\n",
       "    .dataframe thead th {\n",
       "        text-align: right;\n",
       "    }\n",
       "</style>\n",
       "<table border=\"1\" class=\"dataframe\">\n",
       "  <thead>\n",
       "    <tr style=\"text-align: right;\">\n",
       "      <th></th>\n",
       "      <th>nums</th>\n",
       "      <th>boolean_vector</th>\n",
       "      <th>parity</th>\n",
       "    </tr>\n",
       "  </thead>\n",
       "  <tbody>\n",
       "    <tr>\n",
       "      <th>0</th>\n",
       "      <td>0</td>\n",
       "      <td>False</td>\n",
       "      <td>Even</td>\n",
       "    </tr>\n",
       "    <tr>\n",
       "      <th>1</th>\n",
       "      <td>1</td>\n",
       "      <td>True</td>\n",
       "      <td>Odd</td>\n",
       "    </tr>\n",
       "    <tr>\n",
       "      <th>2</th>\n",
       "      <td>2</td>\n",
       "      <td>False</td>\n",
       "      <td>Even</td>\n",
       "    </tr>\n",
       "    <tr>\n",
       "      <th>3</th>\n",
       "      <td>3</td>\n",
       "      <td>True</td>\n",
       "      <td>Odd</td>\n",
       "    </tr>\n",
       "    <tr>\n",
       "      <th>4</th>\n",
       "      <td>4</td>\n",
       "      <td>False</td>\n",
       "      <td>Even</td>\n",
       "    </tr>\n",
       "    <tr>\n",
       "      <th>5</th>\n",
       "      <td>5</td>\n",
       "      <td>True</td>\n",
       "      <td>Odd</td>\n",
       "    </tr>\n",
       "  </tbody>\n",
       "</table>\n",
       "</div>"
      ],
      "text/plain": [
       "   nums  boolean_vector parity\n",
       "0     0           False   Even\n",
       "1     1            True    Odd\n",
       "2     2           False   Even\n",
       "3     3            True    Odd\n",
       "4     4           False   Even\n",
       "5     5            True    Odd"
      ]
     },
     "execution_count": 13,
     "metadata": {},
     "output_type": "execute_result"
    }
   ],
   "source": [
    "# lastly, let's add a third column called \"parity\" that says based off of \"boolean_vector\" if our value is odd/even\n",
    "number_example_array[\"parity\"] = np.where(boolean_vector, \"Odd\", \"Even\")\n",
    "number_example_array"
   ]
  },
  {
   "cell_type": "markdown",
   "id": "3ae3e913",
   "metadata": {},
   "source": [
    "**Exercise 2.5** Access the following:\n",
    "\n",
    "1. Use boolean indexing to access the patient IDs with high (≥1) `TP53` expression. Save this in a pandas DataFrame called `high_TP53`. HINTS:\n",
    "    * Think about if protein expression information will be contained in a row or a column!\n",
    "    * Create a boolean mask with the row/column that contains the expression information of `TP53`.\n",
    "    * Apply the mask to the row/column names that contains the patient IDs.\n",
    "2. How many patients are there in `high_TP53`? Which axis (columns or rows) represents proteins?\n",
    "3. Add a column to `high_TP53` that has the values \"High\"/\"Average\"/\"Low\" based on ARF1 expression.\n",
    "4. How many patients have high expression of both `TP53` and average expression of `ARF1`?"
   ]
  },
  {
   "cell_type": "code",
   "execution_count": 14,
   "id": "d71d7b15",
   "metadata": {},
   "outputs": [
    {
     "data": {
      "text/plain": [
       "27.59951810756375"
      ]
     },
     "execution_count": 14,
     "metadata": {},
     "output_type": "execute_result"
    }
   ],
   "source": [
    "# write code here\n",
    "high_mask = protein_data['TP53'] >= 1\n",
    "high_TP53 = protein_data[high_mask]\n",
    "# print(high_TP53.index) # There are 117 patients with high TP53 expression, columns represents proteins\n",
    "\n",
    "high_TP53['ARF1'].mean()"
   ]
  },
  {
   "cell_type": "markdown",
   "id": "5e91a353",
   "metadata": {},
   "source": [
    "## (3) Additional data in CPTAC\n",
    "\n",
    "You can also access other data using the `cptac` python package for the same patients, using the corresponding get function.\n",
    "\n",
    "**Exercise 3.1** Access the RNA (transcriptomics) and clinical data from the object. The function name is very similar in syntax to the get_proteomics() function from before!"
   ]
  },
  {
   "cell_type": "code",
   "execution_count": 16,
   "id": "26ae7024",
   "metadata": {},
   "outputs": [],
   "source": [
    "rna_data = pdac.get_transcriptomics()\n",
    "clinical_data = pdac.get_clinical()"
   ]
  },
  {
   "cell_type": "markdown",
   "id": "7d217ca6",
   "metadata": {},
   "source": [
    "**Exercise 3.2** Examine these dataframes. In particular:\n",
    "\n",
    "* What do the values in the rna_data data frame represent?\n",
    "* Compare the dimensions of the high_TP53, rna_data, and clinical_data. Are they equal?"
   ]
  },
  {
   "cell_type": "code",
   "execution_count": 18,
   "id": "0ef35657",
   "metadata": {},
   "outputs": [
    {
     "data": {
      "text/plain": [
       "[Index(['C3L-00017', 'C3L-00102', 'C3L-00189', 'C3L-00277', 'C3L-00401',\n",
       "        'C3L-00589', 'C3L-00598', 'C3L-00599', 'C3L-00622', 'C3L-00625',\n",
       "        ...\n",
       "        'C3N-03211.N', 'C3N-03426.N', 'C3N-03440.N', 'C3N-03780.N',\n",
       "        'C3N-03839.N', 'C3N-03840.N', 'C3N-03884.N', 'C3N-04119.N',\n",
       "        'C3N-04282.N', 'C3N-04283.N'],\n",
       "       dtype='object', name='Patient_ID', length=238),\n",
       " Index(['tumor_included_for_the_study', 'normal_included_for_the_study',\n",
       "        'histology_diagnosis', 'age', 'sex', 'race', 'participant_country',\n",
       "        'tumor_site', 'tumor_focality', 'tumor_size_cm', 'tumor_necrosis',\n",
       "        'lymph_vascular_invasion', 'perineural_invasion',\n",
       "        'number_of_lymph_nodes_examined',\n",
       "        'number_of_lymph_nodes_positive_for_tumor',\n",
       "        'pathologic_staging_regional_lymph_nodes_pn',\n",
       "        'pathologic_staging_primary_tumor_pt',\n",
       "        'pathologic_staging_distant_metastasis_pm',\n",
       "        'clinical_staging_distant_metastasis_cm', 'residual_tumor',\n",
       "        'tumor_stage_pathological', 'additional_pathologic_findings', 'bmi',\n",
       "        'alcohol_consumption', 'tobacco_smoking_history', 'medical_condition',\n",
       "        'Neoplastic_cellularity', 'Acinar_fraction', 'Islet_fraction',\n",
       "        'Stromal_fraction', 'Non_neoplastic_duct', 'Fat_fraction',\n",
       "        'Inflammation_fraction', 'Muscle_fraction', 'follow_up_days',\n",
       "        'vital_status', 'is_this_patient_lost_to_follow_up', 'cause_of_death',\n",
       "        'Sample_Tumor_Normal'],\n",
       "       dtype='object', name='Name')]"
      ]
     },
     "execution_count": 18,
     "metadata": {},
     "output_type": "execute_result"
    }
   ],
   "source": [
    "# explore the data frames using shape, axes, and other functions we've gone over.\n",
    "rna_data.axes\n",
    "clinical_data.axes"
   ]
  },
  {
   "cell_type": "markdown",
   "id": "67f6107d",
   "metadata": {},
   "source": [
    "The dimensions for each dataframe might not be equal depending on if you masked some patients. That's where the `intersect1d()` function from numpy becomes really useful, especially if we want to analyze transcriptomics, proteomics, and clinical data together. This lets us see which patient barcodes are shared between the data frames.\n",
    "\n",
    "\n",
    "Let's take a look at all of the patients who are older than 50 years old at the time of diagnosis. \n",
    "<br></br>\n",
    "**Exercise 3.3**\n",
    "1.  Use the clinical data DataFrame to create a boolean mask for the condition of patients being older than 50.\n",
    "2.  Mask the clinical data and assign it to a DataFrame called 'masked_clinical'."
   ]
  },
  {
   "cell_type": "code",
   "execution_count": 23,
   "id": "27343c31",
   "metadata": {},
   "outputs": [],
   "source": [
    "# write code here\n",
    "\n",
    "age_mask = clinical_data['age'] > 50\n",
    "\n",
    "# 2. Mask the clinical data and assign it to a DataFrame called 'masked_clinical'.\n",
    "masked_clinical = clinical_data[age_mask]"
   ]
  },
  {
   "cell_type": "markdown",
   "id": "d356f73c",
   "metadata": {},
   "source": [
    "Now that we have masked our data, if we tried to do an analysis using the different data frames, we would get a lot of errors since we are now missing some patients in our masked_clinical data frame. If we want to get the patients who are present in the masked data as well as the rna_data and protein_data, we can use intersect1d().\n",
    "\n",
    "**Exercise 3.4**\n",
    "1. Use `intersect1d()` from np to create a list that contains the patient IDs for each pair of data frames as mentioned below. (Hint: this function takes two 1d arrays, which would be patient IDs from two different dataframes. How do we get this from each dataframe? Are patient IDs rows or columns?) \n",
    "2. Use a for loop to print the lengths of these three data frames, and compare them to the number of rows. The for loop skeleton is below. What do you notice about the three lengths? Do the numbers correspond to anything in particular?\n",
    "3. Finally, identify which intersection contains the patient IDs where there is data for all three levels of data (proteomics, transcriptomics, and clinical). How can we tell?"
   ]
  },
  {
   "cell_type": "code",
   "execution_count": 41,
   "id": "82a4f60a-e414-4bab-8517-4e6fa0e162f1",
   "metadata": {},
   "outputs": [
    {
     "name": "stdout",
     "output_type": "stream",
     "text": [
      "The length of intersection 0 is 161\n",
      "The length of intersection 1 is 215\n",
      "The length of intersection 2 is 161\n"
     ]
    }
   ],
   "source": [
    "\n",
    "name_intersects = [\n",
    "    np.intersect1d(protein_data.index, rna_data.index), # Protein/RNA intersection\n",
    "    np.intersect1d(protein_data.index, clinical_data.index), # Protein/Clinical intersection\n",
    "    np.intersect1d(rna_data.index, clinical_data.index) # RNA/Clinical intersection\n",
    "]\n",
    "\n",
    "# Print the lengths\n",
    "for i, intersection in enumerate(name_intersects):\n",
    "    print(f\"The length of intersection {i} is {len(intersection)}\")\n",
    "\n",
    "all_three_levels = np.intersect1d(name_intersects[0], name_intersects[2])\n"
   ]
  },
  {
   "cell_type": "markdown",
   "id": "f34fa008",
   "metadata": {},
   "source": [
    "## (4) Examining the Clinical Data"
   ]
  },
  {
   "cell_type": "markdown",
   "id": "1c16ae96",
   "metadata": {},
   "source": [
    "Let's explore the clinical data in more detail.\n",
    "\n",
    "First, use head() to glance as to what data is available."
   ]
  },
  {
   "cell_type": "code",
   "execution_count": 42,
   "id": "60fe1771",
   "metadata": {},
   "outputs": [
    {
     "data": {
      "text/html": [
       "<div>\n",
       "<style scoped>\n",
       "    .dataframe tbody tr th:only-of-type {\n",
       "        vertical-align: middle;\n",
       "    }\n",
       "\n",
       "    .dataframe tbody tr th {\n",
       "        vertical-align: top;\n",
       "    }\n",
       "\n",
       "    .dataframe thead th {\n",
       "        text-align: right;\n",
       "    }\n",
       "</style>\n",
       "<table border=\"1\" class=\"dataframe\">\n",
       "  <thead>\n",
       "    <tr style=\"text-align: right;\">\n",
       "      <th>Name</th>\n",
       "      <th>tumor_included_for_the_study</th>\n",
       "      <th>normal_included_for_the_study</th>\n",
       "      <th>histology_diagnosis</th>\n",
       "      <th>age</th>\n",
       "      <th>sex</th>\n",
       "      <th>race</th>\n",
       "      <th>participant_country</th>\n",
       "      <th>tumor_site</th>\n",
       "      <th>tumor_focality</th>\n",
       "      <th>tumor_size_cm</th>\n",
       "      <th>...</th>\n",
       "      <th>Stromal_fraction</th>\n",
       "      <th>Non_neoplastic_duct</th>\n",
       "      <th>Fat_fraction</th>\n",
       "      <th>Inflammation_fraction</th>\n",
       "      <th>Muscle_fraction</th>\n",
       "      <th>follow_up_days</th>\n",
       "      <th>vital_status</th>\n",
       "      <th>is_this_patient_lost_to_follow_up</th>\n",
       "      <th>cause_of_death</th>\n",
       "      <th>Sample_Tumor_Normal</th>\n",
       "    </tr>\n",
       "    <tr>\n",
       "      <th>Patient_ID</th>\n",
       "      <th></th>\n",
       "      <th></th>\n",
       "      <th></th>\n",
       "      <th></th>\n",
       "      <th></th>\n",
       "      <th></th>\n",
       "      <th></th>\n",
       "      <th></th>\n",
       "      <th></th>\n",
       "      <th></th>\n",
       "      <th></th>\n",
       "      <th></th>\n",
       "      <th></th>\n",
       "      <th></th>\n",
       "      <th></th>\n",
       "      <th></th>\n",
       "      <th></th>\n",
       "      <th></th>\n",
       "      <th></th>\n",
       "      <th></th>\n",
       "      <th></th>\n",
       "    </tr>\n",
       "  </thead>\n",
       "  <tbody>\n",
       "    <tr>\n",
       "      <th>C3L-00017</th>\n",
       "      <td>yes</td>\n",
       "      <td>no</td>\n",
       "      <td>PDAC</td>\n",
       "      <td>69.0</td>\n",
       "      <td>Male</td>\n",
       "      <td>White</td>\n",
       "      <td>United States</td>\n",
       "      <td>head</td>\n",
       "      <td>Unifocal</td>\n",
       "      <td>4.5</td>\n",
       "      <td>...</td>\n",
       "      <td>73</td>\n",
       "      <td>0</td>\n",
       "      <td>0</td>\n",
       "      <td>5</td>\n",
       "      <td>0</td>\n",
       "      <td>426.0</td>\n",
       "      <td>Living</td>\n",
       "      <td>Yes</td>\n",
       "      <td>na</td>\n",
       "      <td>Tumor</td>\n",
       "    </tr>\n",
       "    <tr>\n",
       "      <th>C3L-00102</th>\n",
       "      <td>yes</td>\n",
       "      <td>yes</td>\n",
       "      <td>PDAC</td>\n",
       "      <td>42.0</td>\n",
       "      <td>Male</td>\n",
       "      <td>White</td>\n",
       "      <td>United States</td>\n",
       "      <td>head</td>\n",
       "      <td>Unifocal</td>\n",
       "      <td>3.0</td>\n",
       "      <td>...</td>\n",
       "      <td>60</td>\n",
       "      <td>1</td>\n",
       "      <td>4</td>\n",
       "      <td>7</td>\n",
       "      <td>0</td>\n",
       "      <td>249.0</td>\n",
       "      <td>Deceased</td>\n",
       "      <td>No</td>\n",
       "      <td>pancreatic carcinoma</td>\n",
       "      <td>Tumor</td>\n",
       "    </tr>\n",
       "    <tr>\n",
       "      <th>C3L-00189</th>\n",
       "      <td>yes</td>\n",
       "      <td>yes</td>\n",
       "      <td>PDAC</td>\n",
       "      <td>68.0</td>\n",
       "      <td>Female</td>\n",
       "      <td>NaN</td>\n",
       "      <td>Canada</td>\n",
       "      <td>head</td>\n",
       "      <td>Unifocal</td>\n",
       "      <td>2.7</td>\n",
       "      <td>...</td>\n",
       "      <td>75;55;53</td>\n",
       "      <td>2;1;0</td>\n",
       "      <td>0;6;0</td>\n",
       "      <td>7;30;25</td>\n",
       "      <td>0;0;0</td>\n",
       "      <td>1035.0</td>\n",
       "      <td>Deceased</td>\n",
       "      <td>No</td>\n",
       "      <td>pancreatic carcinoma</td>\n",
       "      <td>Tumor</td>\n",
       "    </tr>\n",
       "    <tr>\n",
       "      <th>C3L-00277</th>\n",
       "      <td>yes</td>\n",
       "      <td>yes</td>\n",
       "      <td>PDAC</td>\n",
       "      <td>69.0</td>\n",
       "      <td>Male</td>\n",
       "      <td>White</td>\n",
       "      <td>Other</td>\n",
       "      <td>tail</td>\n",
       "      <td>Unifocal</td>\n",
       "      <td>5.0</td>\n",
       "      <td>...</td>\n",
       "      <td>55</td>\n",
       "      <td>0</td>\n",
       "      <td>0</td>\n",
       "      <td>5</td>\n",
       "      <td>0</td>\n",
       "      <td>610.0</td>\n",
       "      <td>Deceased</td>\n",
       "      <td>Yes</td>\n",
       "      <td>pancreatic carcinoma</td>\n",
       "      <td>Tumor</td>\n",
       "    </tr>\n",
       "    <tr>\n",
       "      <th>C3L-00401</th>\n",
       "      <td>yes</td>\n",
       "      <td>yes</td>\n",
       "      <td>PDAC</td>\n",
       "      <td>62.0</td>\n",
       "      <td>Female</td>\n",
       "      <td>NaN</td>\n",
       "      <td>Canada</td>\n",
       "      <td>body</td>\n",
       "      <td>Unifocal</td>\n",
       "      <td>2.8</td>\n",
       "      <td>...</td>\n",
       "      <td>35;30;32</td>\n",
       "      <td>3;10;10</td>\n",
       "      <td>0;0;0</td>\n",
       "      <td>10;13;5</td>\n",
       "      <td>0;0;0</td>\n",
       "      <td>1228.0</td>\n",
       "      <td>Living</td>\n",
       "      <td>No</td>\n",
       "      <td>na</td>\n",
       "      <td>Tumor</td>\n",
       "    </tr>\n",
       "  </tbody>\n",
       "</table>\n",
       "<p>5 rows × 39 columns</p>\n",
       "</div>"
      ],
      "text/plain": [
       "Name       tumor_included_for_the_study normal_included_for_the_study  \\\n",
       "Patient_ID                                                              \n",
       "C3L-00017                           yes                            no   \n",
       "C3L-00102                           yes                           yes   \n",
       "C3L-00189                           yes                           yes   \n",
       "C3L-00277                           yes                           yes   \n",
       "C3L-00401                           yes                           yes   \n",
       "\n",
       "Name       histology_diagnosis   age     sex   race participant_country  \\\n",
       "Patient_ID                                                                \n",
       "C3L-00017                 PDAC  69.0    Male  White       United States   \n",
       "C3L-00102                 PDAC  42.0    Male  White       United States   \n",
       "C3L-00189                 PDAC  68.0  Female    NaN              Canada   \n",
       "C3L-00277                 PDAC  69.0    Male  White               Other   \n",
       "C3L-00401                 PDAC  62.0  Female    NaN              Canada   \n",
       "\n",
       "Name       tumor_site tumor_focality  tumor_size_cm  ... Stromal_fraction  \\\n",
       "Patient_ID                                           ...                    \n",
       "C3L-00017        head       Unifocal            4.5  ...               73   \n",
       "C3L-00102        head       Unifocal            3.0  ...               60   \n",
       "C3L-00189        head       Unifocal            2.7  ...         75;55;53   \n",
       "C3L-00277        tail       Unifocal            5.0  ...               55   \n",
       "C3L-00401        body       Unifocal            2.8  ...         35;30;32   \n",
       "\n",
       "Name       Non_neoplastic_duct Fat_fraction Inflammation_fraction  \\\n",
       "Patient_ID                                                          \n",
       "C3L-00017                    0            0                     5   \n",
       "C3L-00102                    1            4                     7   \n",
       "C3L-00189                2;1;0        0;6;0               7;30;25   \n",
       "C3L-00277                    0            0                     5   \n",
       "C3L-00401              3;10;10        0;0;0               10;13;5   \n",
       "\n",
       "Name        Muscle_fraction follow_up_days vital_status  \\\n",
       "Patient_ID                                                \n",
       "C3L-00017                 0          426.0       Living   \n",
       "C3L-00102                 0          249.0     Deceased   \n",
       "C3L-00189             0;0;0         1035.0     Deceased   \n",
       "C3L-00277                 0          610.0     Deceased   \n",
       "C3L-00401             0;0;0         1228.0       Living   \n",
       "\n",
       "Name       is_this_patient_lost_to_follow_up        cause_of_death  \\\n",
       "Patient_ID                                                           \n",
       "C3L-00017                                Yes                    na   \n",
       "C3L-00102                                 No  pancreatic carcinoma   \n",
       "C3L-00189                                 No  pancreatic carcinoma   \n",
       "C3L-00277                                Yes  pancreatic carcinoma   \n",
       "C3L-00401                                 No                    na   \n",
       "\n",
       "Name       Sample_Tumor_Normal  \n",
       "Patient_ID                      \n",
       "C3L-00017                Tumor  \n",
       "C3L-00102                Tumor  \n",
       "C3L-00189                Tumor  \n",
       "C3L-00277                Tumor  \n",
       "C3L-00401                Tumor  \n",
       "\n",
       "[5 rows x 39 columns]"
      ]
     },
     "execution_count": 42,
     "metadata": {},
     "output_type": "execute_result"
    }
   ],
   "source": [
    "# write code here\n",
    "clinical_data.head()"
   ]
  },
  {
   "cell_type": "markdown",
   "id": "77030e93",
   "metadata": {},
   "source": [
    "**Exercise 4.1** You might notice that the Age column values don't look like years -- they're in months. Create a new column called \"Age\" with the \"Age.in.Month\" values / 12. Then, use head() again to make sure the ages were converted."
   ]
  },
  {
   "cell_type": "code",
   "execution_count": 48,
   "id": "e2b7a6d2",
   "metadata": {},
   "outputs": [
    {
     "data": {
      "text/html": [
       "<div>\n",
       "<style scoped>\n",
       "    .dataframe tbody tr th:only-of-type {\n",
       "        vertical-align: middle;\n",
       "    }\n",
       "\n",
       "    .dataframe tbody tr th {\n",
       "        vertical-align: top;\n",
       "    }\n",
       "\n",
       "    .dataframe thead th {\n",
       "        text-align: right;\n",
       "    }\n",
       "</style>\n",
       "<table border=\"1\" class=\"dataframe\">\n",
       "  <thead>\n",
       "    <tr style=\"text-align: right;\">\n",
       "      <th>Name</th>\n",
       "      <th>tumor_included_for_the_study</th>\n",
       "      <th>normal_included_for_the_study</th>\n",
       "      <th>histology_diagnosis</th>\n",
       "      <th>age</th>\n",
       "      <th>sex</th>\n",
       "      <th>race</th>\n",
       "      <th>participant_country</th>\n",
       "      <th>tumor_site</th>\n",
       "      <th>tumor_focality</th>\n",
       "      <th>tumor_size_cm</th>\n",
       "      <th>...</th>\n",
       "      <th>Non_neoplastic_duct</th>\n",
       "      <th>Fat_fraction</th>\n",
       "      <th>Inflammation_fraction</th>\n",
       "      <th>Muscle_fraction</th>\n",
       "      <th>follow_up_days</th>\n",
       "      <th>vital_status</th>\n",
       "      <th>is_this_patient_lost_to_follow_up</th>\n",
       "      <th>cause_of_death</th>\n",
       "      <th>Sample_Tumor_Normal</th>\n",
       "      <th>Age.in.Month</th>\n",
       "    </tr>\n",
       "    <tr>\n",
       "      <th>Patient_ID</th>\n",
       "      <th></th>\n",
       "      <th></th>\n",
       "      <th></th>\n",
       "      <th></th>\n",
       "      <th></th>\n",
       "      <th></th>\n",
       "      <th></th>\n",
       "      <th></th>\n",
       "      <th></th>\n",
       "      <th></th>\n",
       "      <th></th>\n",
       "      <th></th>\n",
       "      <th></th>\n",
       "      <th></th>\n",
       "      <th></th>\n",
       "      <th></th>\n",
       "      <th></th>\n",
       "      <th></th>\n",
       "      <th></th>\n",
       "      <th></th>\n",
       "      <th></th>\n",
       "    </tr>\n",
       "  </thead>\n",
       "  <tbody>\n",
       "    <tr>\n",
       "      <th>C3L-00017</th>\n",
       "      <td>yes</td>\n",
       "      <td>no</td>\n",
       "      <td>PDAC</td>\n",
       "      <td>69.0</td>\n",
       "      <td>Male</td>\n",
       "      <td>White</td>\n",
       "      <td>United States</td>\n",
       "      <td>head</td>\n",
       "      <td>Unifocal</td>\n",
       "      <td>4.5</td>\n",
       "      <td>...</td>\n",
       "      <td>0</td>\n",
       "      <td>0</td>\n",
       "      <td>5</td>\n",
       "      <td>0</td>\n",
       "      <td>426.0</td>\n",
       "      <td>Living</td>\n",
       "      <td>Yes</td>\n",
       "      <td>na</td>\n",
       "      <td>Tumor</td>\n",
       "      <td>828.0</td>\n",
       "    </tr>\n",
       "    <tr>\n",
       "      <th>C3L-00102</th>\n",
       "      <td>yes</td>\n",
       "      <td>yes</td>\n",
       "      <td>PDAC</td>\n",
       "      <td>42.0</td>\n",
       "      <td>Male</td>\n",
       "      <td>White</td>\n",
       "      <td>United States</td>\n",
       "      <td>head</td>\n",
       "      <td>Unifocal</td>\n",
       "      <td>3.0</td>\n",
       "      <td>...</td>\n",
       "      <td>1</td>\n",
       "      <td>4</td>\n",
       "      <td>7</td>\n",
       "      <td>0</td>\n",
       "      <td>249.0</td>\n",
       "      <td>Deceased</td>\n",
       "      <td>No</td>\n",
       "      <td>pancreatic carcinoma</td>\n",
       "      <td>Tumor</td>\n",
       "      <td>504.0</td>\n",
       "    </tr>\n",
       "    <tr>\n",
       "      <th>C3L-00189</th>\n",
       "      <td>yes</td>\n",
       "      <td>yes</td>\n",
       "      <td>PDAC</td>\n",
       "      <td>68.0</td>\n",
       "      <td>Female</td>\n",
       "      <td>NaN</td>\n",
       "      <td>Canada</td>\n",
       "      <td>head</td>\n",
       "      <td>Unifocal</td>\n",
       "      <td>2.7</td>\n",
       "      <td>...</td>\n",
       "      <td>2;1;0</td>\n",
       "      <td>0;6;0</td>\n",
       "      <td>7;30;25</td>\n",
       "      <td>0;0;0</td>\n",
       "      <td>1035.0</td>\n",
       "      <td>Deceased</td>\n",
       "      <td>No</td>\n",
       "      <td>pancreatic carcinoma</td>\n",
       "      <td>Tumor</td>\n",
       "      <td>816.0</td>\n",
       "    </tr>\n",
       "    <tr>\n",
       "      <th>C3L-00277</th>\n",
       "      <td>yes</td>\n",
       "      <td>yes</td>\n",
       "      <td>PDAC</td>\n",
       "      <td>69.0</td>\n",
       "      <td>Male</td>\n",
       "      <td>White</td>\n",
       "      <td>Other</td>\n",
       "      <td>tail</td>\n",
       "      <td>Unifocal</td>\n",
       "      <td>5.0</td>\n",
       "      <td>...</td>\n",
       "      <td>0</td>\n",
       "      <td>0</td>\n",
       "      <td>5</td>\n",
       "      <td>0</td>\n",
       "      <td>610.0</td>\n",
       "      <td>Deceased</td>\n",
       "      <td>Yes</td>\n",
       "      <td>pancreatic carcinoma</td>\n",
       "      <td>Tumor</td>\n",
       "      <td>828.0</td>\n",
       "    </tr>\n",
       "    <tr>\n",
       "      <th>C3L-00401</th>\n",
       "      <td>yes</td>\n",
       "      <td>yes</td>\n",
       "      <td>PDAC</td>\n",
       "      <td>62.0</td>\n",
       "      <td>Female</td>\n",
       "      <td>NaN</td>\n",
       "      <td>Canada</td>\n",
       "      <td>body</td>\n",
       "      <td>Unifocal</td>\n",
       "      <td>2.8</td>\n",
       "      <td>...</td>\n",
       "      <td>3;10;10</td>\n",
       "      <td>0;0;0</td>\n",
       "      <td>10;13;5</td>\n",
       "      <td>0;0;0</td>\n",
       "      <td>1228.0</td>\n",
       "      <td>Living</td>\n",
       "      <td>No</td>\n",
       "      <td>na</td>\n",
       "      <td>Tumor</td>\n",
       "      <td>744.0</td>\n",
       "    </tr>\n",
       "  </tbody>\n",
       "</table>\n",
       "<p>5 rows × 40 columns</p>\n",
       "</div>"
      ],
      "text/plain": [
       "Name       tumor_included_for_the_study normal_included_for_the_study  \\\n",
       "Patient_ID                                                              \n",
       "C3L-00017                           yes                            no   \n",
       "C3L-00102                           yes                           yes   \n",
       "C3L-00189                           yes                           yes   \n",
       "C3L-00277                           yes                           yes   \n",
       "C3L-00401                           yes                           yes   \n",
       "\n",
       "Name       histology_diagnosis   age     sex   race participant_country  \\\n",
       "Patient_ID                                                                \n",
       "C3L-00017                 PDAC  69.0    Male  White       United States   \n",
       "C3L-00102                 PDAC  42.0    Male  White       United States   \n",
       "C3L-00189                 PDAC  68.0  Female    NaN              Canada   \n",
       "C3L-00277                 PDAC  69.0    Male  White               Other   \n",
       "C3L-00401                 PDAC  62.0  Female    NaN              Canada   \n",
       "\n",
       "Name       tumor_site tumor_focality  tumor_size_cm  ... Non_neoplastic_duct  \\\n",
       "Patient_ID                                           ...                       \n",
       "C3L-00017        head       Unifocal            4.5  ...                   0   \n",
       "C3L-00102        head       Unifocal            3.0  ...                   1   \n",
       "C3L-00189        head       Unifocal            2.7  ...               2;1;0   \n",
       "C3L-00277        tail       Unifocal            5.0  ...                   0   \n",
       "C3L-00401        body       Unifocal            2.8  ...             3;10;10   \n",
       "\n",
       "Name       Fat_fraction Inflammation_fraction Muscle_fraction  follow_up_days  \\\n",
       "Patient_ID                                                                      \n",
       "C3L-00017             0                     5               0           426.0   \n",
       "C3L-00102             4                     7               0           249.0   \n",
       "C3L-00189         0;6;0               7;30;25           0;0;0          1035.0   \n",
       "C3L-00277             0                     5               0           610.0   \n",
       "C3L-00401         0;0;0               10;13;5           0;0;0          1228.0   \n",
       "\n",
       "Name       vital_status is_this_patient_lost_to_follow_up  \\\n",
       "Patient_ID                                                  \n",
       "C3L-00017        Living                               Yes   \n",
       "C3L-00102      Deceased                                No   \n",
       "C3L-00189      Deceased                                No   \n",
       "C3L-00277      Deceased                               Yes   \n",
       "C3L-00401        Living                                No   \n",
       "\n",
       "Name              cause_of_death Sample_Tumor_Normal Age.in.Month  \n",
       "Patient_ID                                                         \n",
       "C3L-00017                     na               Tumor        828.0  \n",
       "C3L-00102   pancreatic carcinoma               Tumor        504.0  \n",
       "C3L-00189   pancreatic carcinoma               Tumor        816.0  \n",
       "C3L-00277   pancreatic carcinoma               Tumor        828.0  \n",
       "C3L-00401                     na               Tumor        744.0  \n",
       "\n",
       "[5 rows x 40 columns]"
      ]
     },
     "execution_count": 48,
     "metadata": {},
     "output_type": "execute_result"
    }
   ],
   "source": [
    "# convert ages here!\n",
    "clinical_data[\"Age.in.Month\"] = clinical_data[\"age\"] * 12\n",
    "\n",
    "# Now, to verify the conversion, use head() to display the top rows\n",
    "clinical_data.head()\n"
   ]
  },
  {
   "cell_type": "markdown",
   "id": "a7e704a4",
   "metadata": {},
   "source": [
    "There may be control (non-cancer) tissue samples in some datasets. Let's determine whether we need to account for this in our dataset this using the unique() function from numpy.\n",
    "\n",
    "__Exercise 4.2__ Call the unique() function on the Sample_Tumor_Normal column. The function will return the unique values in the column in a sorted order -- this is super useful for examining categorical variables, like tumor stage and tumor status, for example."
   ]
  },
  {
   "cell_type": "code",
   "execution_count": 54,
   "id": "5b56fa09",
   "metadata": {},
   "outputs": [
    {
     "name": "stdout",
     "output_type": "stream",
     "text": [
      "['Tumor' nan]\n"
     ]
    }
   ],
   "source": [
    "# Get the levels of the Sample_Tumor_Normal column with unique()\n",
    "print(clinical_data[\"Sample_Tumor_Normal\"].unique())"
   ]
  },
  {
   "cell_type": "markdown",
   "id": "5b1338d1",
   "metadata": {},
   "source": [
    "__Exercise 4.3__ Let's examine how tumor stage varies as a function of age:\n",
    "\n",
    "   1. Import the plotting libraries matplotlib.pyplot and seaborn (use the standard abbreviations presented last time, seaborn is sns).\n",
    "   2. Create an age_category column in clinical_data. Define \"Young\" as under the median age, and \"Old\" as the median age and older. (Hint: use the where() function from numpy, the equivalent to ifelse()).\n",
    "   3. The \"Stage\" information for soome of these patients is NaN (the pandas version of NA). Use the isna() function from pandas and boolean indexing (i.e. where() from numpy again) to remove any patients with NaN values in \"Stage\".\n",
    "   4. Using nested for loop and boolean indexing, count the number of old and young patients that have Stage I, Stage II, Stage III, and Stage IV cancer.\n",
    "   5. Use the skeleton code to draw the barplot. Do your numbers make sense?"
   ]
  },
  {
   "cell_type": "code",
   "execution_count": 92,
   "id": "3d9b0202",
   "metadata": {},
   "outputs": [
    {
     "name": "stdout",
     "output_type": "stream",
     "text": [
      "Name       tumor_included_for_the_study normal_included_for_the_study  \\\n",
      "Patient_ID                                                              \n",
      "C3L-00017                           yes                            no   \n",
      "C3L-00102                           yes                           yes   \n",
      "C3L-00189                           yes                           yes   \n",
      "C3L-00277                           yes                           yes   \n",
      "C3L-00401                           yes                           yes   \n",
      "\n",
      "Name       histology_diagnosis   age     sex   race participant_country  \\\n",
      "Patient_ID                                                                \n",
      "C3L-00017                 PDAC  69.0    Male  White       United States   \n",
      "C3L-00102                 PDAC  42.0    Male  White       United States   \n",
      "C3L-00189                 PDAC  68.0  Female    NaN              Canada   \n",
      "C3L-00277                 PDAC  69.0    Male  White               Other   \n",
      "C3L-00401                 PDAC  62.0  Female    NaN              Canada   \n",
      "\n",
      "Name       tumor_site tumor_focality  tumor_size_cm  ... Fat_fraction  \\\n",
      "Patient_ID                                           ...                \n",
      "C3L-00017        head       Unifocal            4.5  ...            0   \n",
      "C3L-00102        head       Unifocal            3.0  ...            4   \n",
      "C3L-00189        head       Unifocal            2.7  ...        0;6;0   \n",
      "C3L-00277        tail       Unifocal            5.0  ...            0   \n",
      "C3L-00401        body       Unifocal            2.8  ...        0;0;0   \n",
      "\n",
      "Name       Inflammation_fraction Muscle_fraction follow_up_days  vital_status  \\\n",
      "Patient_ID                                                                      \n",
      "C3L-00017                      5               0          426.0        Living   \n",
      "C3L-00102                      7               0          249.0      Deceased   \n",
      "C3L-00189                7;30;25           0;0;0         1035.0      Deceased   \n",
      "C3L-00277                      5               0          610.0      Deceased   \n",
      "C3L-00401                10;13;5           0;0;0         1228.0        Living   \n",
      "\n",
      "Name       is_this_patient_lost_to_follow_up        cause_of_death  \\\n",
      "Patient_ID                                                           \n",
      "C3L-00017                                Yes                    na   \n",
      "C3L-00102                                 No  pancreatic carcinoma   \n",
      "C3L-00189                                 No  pancreatic carcinoma   \n",
      "C3L-00277                                Yes  pancreatic carcinoma   \n",
      "C3L-00401                                 No                    na   \n",
      "\n",
      "Name       Sample_Tumor_Normal Age.in.Month age_category  \n",
      "Patient_ID                                                \n",
      "C3L-00017                Tumor        828.0          Old  \n",
      "C3L-00102                Tumor        504.0        Young  \n",
      "C3L-00189                Tumor        816.0          Old  \n",
      "C3L-00277                Tumor        828.0          Old  \n",
      "C3L-00401                Tumor        744.0        Young  \n",
      "\n",
      "[5 rows x 41 columns]\n"
     ]
    }
   ],
   "source": [
    "# 1. Import libraries here\n",
    "\n",
    "import matplotlib.pyplot as plt\n",
    "import seaborn as sns\n",
    "\n",
    "# 2. Create the age_category column in clinical_data\n",
    "print(clinical_data.head())\n",
    "median_age = clinical_data['age'].median()\n",
    "clinical_data['age_category'] = np.where(clinical_data['age'] < median_age, 'Young', 'Old')\n",
    "\n",
    "# 3. Filter our NaN\n",
    "clinical_data = clinical_data[~clinical_data['tumor_stage_pathological'].isna()]\n"
   ]
  },
  {
   "cell_type": "code",
   "execution_count": 101,
   "id": "f8b1a402-bd3b-4158-95a8-52e55c62bb80",
   "metadata": {},
   "outputs": [
    {
     "name": "stdout",
     "output_type": "stream",
     "text": [
      "['Stage IA' 'Stage IB' 'Stage IIA' 'Stage IIB' 'Stage III' 'Stage IV']\n",
      "Old\n",
      "Stage IA: 5\n",
      "Stage IB: 10\n",
      "Stage IIA: 7\n",
      "Stage IIB: 26\n",
      "Stage III: 16\n",
      "Stage IV: 4\n",
      "Young\n",
      "Stage IA: 2\n",
      "Stage IB: 6\n",
      "Stage IIA: 1\n",
      "Stage IIB: 26\n",
      "Stage III: 26\n",
      "Stage IV: 5\n"
     ]
    },
    {
     "data": {
      "image/png": "[encoded data removed]",
      "text/plain": [
       "<Figure size 640x480 with 1 Axes>"
      ]
     },
     "metadata": {},
     "output_type": "display_data"
    }
   ],
   "source": [
    "\n",
    "## this will programatically get all the stages in order\n",
    "stage_categories = np.unique(clinical_data.loc[:, 'tumor_stage_pathological'])\n",
    "print(stage_categories)\n",
    "assert np.all(np.sort(stage_categories) == np.sort(np.unique(clinical_data['tumor_stage_pathological']).tolist()))\n",
    "# 4. Loop through all the stage categories and count\n",
    "\n",
    "for age_cat in [\"Old\", \"Young\"]: # first get the old data, then the young data\n",
    "    print(age_cat)\n",
    "    # fill this in with the cancer category:\n",
    "    for cancer_cat in stage_categories:\n",
    "        # 1. create a subset of the data frame with the old/young patients\n",
    "        subset = clinical_data[(clinical_data['age_category'] == age_cat) & (clinical_data['tumor_stage_pathological'] == cancer_cat)]\n",
    "        # 2. count the number of patients with the stage of cancer and print\n",
    "        count = subset.shape[0]\n",
    "        print(f\"{cancer_cat}: {count}\")\n",
    "      \n",
    "# 5. Create a barplot to compare your results\n",
    "sns.countplot(\n",
    "    x = \"age_category\",\n",
    "    hue = \"tumor_stage_pathological\",\n",
    "    hue_order = stage_categories,\n",
    "    data = clinical_data\n",
    ")\n",
    "\n",
    "plt.show()"
   ]
  },
  {
   "cell_type": "markdown",
   "id": "c5b41b9e",
   "metadata": {},
   "source": [
    "## (5) Plotting Proteomic Data"
   ]
  },
  {
   "cell_type": "markdown",
   "id": "456a052b",
   "metadata": {},
   "source": [
    "Let's explore how the proteomic expression of a gene differs between young and old patients.\n",
    "\n",
    "**Exercise 5.1** Plot the expression data of a chosen protein stratified between patients older and younger than the median age."
   ]
  },
  {
   "cell_type": "code",
   "execution_count": 146,
   "id": "73359e8c",
   "metadata": {},
   "outputs": [
    {
     "data": {
      "text/plain": [
       "[array([22.24364522, 22.20780208, 21.74022571, 22.25403217, 21.95738155,\n",
       "        22.50213638, 22.54950207, 21.75489293, 21.93268966, 23.29120538,\n",
       "        21.80011264, 21.98361096, 22.03213927, 23.23714676, 22.23982492,\n",
       "        20.54534232, 21.49017548, 23.21602073, 22.05961554, 21.85745891,\n",
       "        21.39360697, 22.89891084, 22.03561983, 22.65509724, 22.02223584,\n",
       "        22.8566564 , 21.71733835, 21.84394429, 21.88819535, 21.53889841,\n",
       "        21.64315764, 21.71353323, 22.25192284, 22.25354977, 21.86483569,\n",
       "        22.38550832, 22.35682987, 21.72428943, 22.69457148]),\n",
       " array([22.36756843, 22.43948584, 22.90936845, 22.29743017, 21.5964152 ,\n",
       "        22.56057901, 22.40410749, 20.63901513, 22.79607552, 23.44207823,\n",
       "        24.1079638 , 22.4967791 , 21.89126612, 21.66572994, 22.25465495,\n",
       "        21.5761327 , 22.6903451 , 22.21015671, 21.29822828, 21.85899297,\n",
       "        22.91659643, 21.77547277, 22.0491657 , 22.32984122, 21.49905848,\n",
       "        24.26283549, 21.19280817, 21.99052344, 23.5977117 , 21.92924738,\n",
       "        21.71569168, 21.64116214, 22.28821218, 23.91326442, 21.72174268,\n",
       "        23.92422221, 22.43825157, 21.55628733])]"
      ]
     },
     "execution_count": 146,
     "metadata": {},
     "output_type": "execute_result"
    }
   ],
   "source": [
    "young_mask = clinical_data[clinical_data[\"age_category\"] == 'Young'] # look at the columns of the clinical data to see what column to get age information\n",
    "old_mask = clinical_data[clinical_data[\"age_category\"] == 'Old']\n",
    "\n",
    "\n",
    "young = (protein_data.loc[young_mask.index, 'TP53']).dropna()\n",
    "old = (protein_data.loc[old_mask.index, 'TP53']).dropna()\n",
    "\n",
    "data = [old.values, young.values] # our boxplot function will require an array (or an array of arrays)\n",
    "data"
   ]
  },
  {
   "cell_type": "code",
   "execution_count": 118,
   "id": "01ad52bc",
   "metadata": {},
   "outputs": [
    {
     "data": {
      "image/png": "[encoded data removed]",
      "text/plain": [
       "<Figure size 640x480 with 1 Axes>"
      ]
     },
     "metadata": {},
     "output_type": "display_data"
    }
   ],
   "source": [
    "fig, ax = plt.subplots()\n",
    "\n",
    "plt.axhline(y = 0, color = 'blue', linestyle = '-')\n",
    "plt.axhline(y = -1, color = 'blue', linestyle = ':')\n",
    "plt.axhline(y = 1, color = 'blue', linestyle = ':')\n",
    "\n",
    "bp = ax.boxplot([old.values, young.values])\n",
    "\n",
    "# Set x-ticks labels for the boxplot\n",
    "plt.xticks([1, 2], [\"Old\", \"Young\"])\n",
    "\n",
    "\n",
    "plt.show()"
   ]
  },
  {
   "cell_type": "markdown",
   "id": "25e3f44f",
   "metadata": {},
   "source": [
    "**Exercise 5.2** Why do you think we added lines at -1, 0, and 1? What do these values represent in terms of log2FoldChange?"
   ]
  },
  {
   "cell_type": "code",
   "execution_count": null,
   "id": "73715440",
   "metadata": {},
   "outputs": [],
   "source": [
    "# answer in a comment here"
   ]
  },
  {
   "cell_type": "markdown",
   "id": "fa7c2940",
   "metadata": {},
   "source": [
    "## (6) SciPy\n",
    "Another question to ask is if the levels of RNA expression correlate with protein expression. While we would expect for there to be a 1:1 relationship between RNA and protein (according to the central dogma), as you will see, this is not what we oftentimes observe."
   ]
  },
  {
   "cell_type": "code",
   "execution_count": 81,
   "id": "f5be4586",
   "metadata": {},
   "outputs": [],
   "source": [
    "from scipy import stats # we are using the stats package in particular"
   ]
  },
  {
   "cell_type": "markdown",
   "id": "6d033105",
   "metadata": {},
   "source": [
    "The first thing we need to do is to identify which patients and genes are shared between the transcriptomic and proteomic data sets.\n",
    "\n",
    "For some cancer, patients doesn't have clinical or transcriptomic data in CPTAC. We need to use intersect1d() to fix this. We also need to use intersect1d() to determine which genes are shared.\n",
    "\n",
    "**Exercise 6.1** To make sure the data frames match:\n",
    "\n",
    "1. Identify patients that are shared between transcriptomic and proteomics data (hint: use intersect1d()). \n",
    "2. Identify the names of the genes that are shared between the two datasets (hint: use intersect1d()). Is this data the row or column names?\n",
    "3. Create the rna_shared and prot_shared data frames; ie dataframes with only genes and patients that are shared between rna and protein data. (Hint: how can we access rows/columns by name?)."
   ]
  },
  {
   "cell_type": "code",
   "execution_count": 128,
   "id": "b7cacbe9-e328-4419-b011-6bc55cadb33c",
   "metadata": {},
   "outputs": [],
   "source": [
    "# Assuming transcriptomic_data and proteomic_data are defined with Patient_ID as index and genes as columns\n",
    "\n",
    "# 1. Identify the patients shared between RNA and protein data.\n",
    "shared_patients_prot = np.intersect1d(rna_data.index, rna_data.index)\n",
    "\n",
    "# 2. Identify the genes (RNA, protein) shared between the two data sets\n",
    "# Assuming that the genes are the columns of the data frames\n",
    "shared_rna_prot = np.intersect1d(rna_data.columns, rna_data.columns)\n",
    "\n",
    "# 3. Create the two data frames\n",
    "# DataFrames with only genes and patients that are shared between RNA and protein data\n",
    "rna_shared = rna_data.loc[shared_patients_prot, shared_rna_prot]\n",
    "prot_shared = rna_data.loc[shared_patients_prot, shared_rna_prot]\n"
   ]
  },
  {
   "cell_type": "markdown",
   "id": "7a365ac5",
   "metadata": {},
   "source": [
    "Now, we can see how correlated the RNA and protein levels are. We'll use Spearman correlation from the stats library, which is spearmanr().\n",
    "\n",
    "**Exercise 6.2** Choose a gene and get the Spearman correlation of the rna to protein of that gene."
   ]
  },
  {
   "cell_type": "code",
   "execution_count": 130,
   "id": "ffc0f52b",
   "metadata": {},
   "outputs": [
    {
     "name": "stdout",
     "output_type": "stream",
     "text": [
      "The correlation of ARF1 is 1.0 (p = 0.0).\n"
     ]
    }
   ],
   "source": [
    "# we need the nan_policy=\"omit\" to throw out NaN values\n",
    "from scipy.stats import spearmanr\n",
    "\n",
    "gene_name = 'ARF1'\n",
    "corr, pval = spearmanr(rna_shared[gene_name], prot_shared[gene_name], nan_policy='omit')\n",
    "\n",
    "print(f\"The correlation of {gene_name} is {round(corr, 3)} (p = {round(pval, 10)}).\")"
   ]
  },
  {
   "cell_type": "markdown",
   "id": "21464da2",
   "metadata": {},
   "source": [
    "**Exercise 6.3** What is your gene's Spearman correlation? What does that mean mathematically? What could this represent biologically? Look into the literature to see if it corroborates this idea."
   ]
  },
  {
   "cell_type": "markdown",
   "id": "e07ac8e2-385d-4f41-877e-cebe38ac8f01",
   "metadata": {},
   "source": [
    "A Spearman correlation of 1.0 indicates a perfect positive monotonic relationship, suggesting that as RNA expression levels increase, protein expression levels also increase in a consistent manner for the gene TP53, which could imply a direct correlation between gene expression and protein levels for this gene."
   ]
  },
  {
   "cell_type": "markdown",
   "id": "d123f959",
   "metadata": {},
   "source": [
    "## (7) Heatmaps\n",
    "**Exercise 7.1** A problem arises if we want to compare many correlations. Heatmaps are useful for visualizing a large number of comparisons. To make a heatmap, we'll use the heatmap() function from seaborn. Let's do the following:\n",
    "\n",
    "1. Set up our data frame to hold all comparisons. All you need to do is to access the first 20 gene names.\n",
    "2. Calculate the correlations for the first 20 genes (just to save time). You'll need to use two for loops.\n",
    "3. Call heatmap() -- this is filled in for you!\n",
    "4. Interpret the data. There is a \"light\" diagonal along the heatmap from the top-left to bottom-right. Is this expected? Why or why not?"
   ]
  },
  {
   "cell_type": "code",
   "execution_count": 159,
   "id": "5149313c",
   "metadata": {},
   "outputs": [
    {
     "ename": "SyntaxError",
     "evalue": "invalid syntax (2565069547.py, line 3)",
     "output_type": "error",
     "traceback": [
      "\u001b[0;36m  Cell \u001b[0;32mIn[159], line 3\u001b[0;36m\u001b[0m\n\u001b[0;31m    gene_names = FILL IN HERE # get the first ncomparisons gene names\u001b[0m\n\u001b[0m                      ^\u001b[0m\n\u001b[0;31mSyntaxError\u001b[0m\u001b[0;31m:\u001b[0m invalid syntax\n"
     ]
    }
   ],
   "source": [
    "import seaborn as sns\n",
    "ncomparisons = 20 # define this variable in case we want to change the number of correlations to test\n",
    "                  # this makes it less likely you'll forget to change a number, e.g. in the data frame shape\n",
    "gene_names = FILL IN HERE # get the first ncomparisons gene names\n",
    "\n",
    "\n",
    "# Don't worry about this code\n",
    "# It's good practice to declare your data frame beforehand (it's much faster than appending to a list)\n",
    "# We fill everything in with 0 just as a placeholder\n",
    "corr_df = pd.DataFrame(np.ndarray(shape=(ncomparisons, ncomparisons), dtype=np.float16),\n",
    "                      index = gene_names,\n",
    "                      columns = gene_names)\n",
    "\n",
    "# 2. fill in the data frame!\n",
    "for g1 in gene_names:\n",
    "    for g2 in gene_names:\n",
    "        # calculate the correlations between protein and RNA\n",
    "        # then, use .loc[] to store the correlation in corr_df\n",
    "        FILL IN HERE\n",
    "\n",
    "# 3. create the heat map\n",
    "plot = sns.heatmap(\n",
    "    corr_df,\n",
    "    cmap='mako',\n",
    ")\n",
    "plot.set_xlabel('Protein', fontsize=10)\n",
    "plot.set_ylabel('RNA', fontsize=10)\n",
    "plt.show()\n",
    "\n",
    "# 4. interpret!"
   ]
  },
  {
   "cell_type": "markdown",
   "id": "127284e2",
   "metadata": {},
   "source": [
    "## (8) More with Seaborn\n",
    "seaborn is a nice package which works well with matplotlib and makes prettier plots with more control over the figure.\n",
    "\n",
    "Here's how you make a scatter plot with seaborn, for example:"
   ]
  },
  {
   "cell_type": "code",
   "execution_count": 158,
   "id": "e7d72523",
   "metadata": {},
   "outputs": [
    {
     "data": {
      "image/png": "[encoded data removed]",
      "text/plain": [
       "<Figure size 640x480 with 1 Axes>"
      ]
     },
     "metadata": {},
     "output_type": "display_data"
    }
   ],
   "source": [
    "fig, ax = plt.subplots()\n",
    "\n",
    "sns.scatterplot( # x-axis\n",
    "    x = clinical_data.loc[:, \"Age.in.Month\"],\n",
    "    y = protein_data.loc[:, \"DYNLT3\"],# y-axis\n",
    "    legend = \"full\",  # show the legend\n",
    "    ax = ax  # necessary for when plotting more than 1 subplot\n",
    ")\n",
    "\n",
    "fig.suptitle('Age vs. DYNLT3')  # set title\n",
    "\n",
    "plt.show()"
   ]
  },
  {
   "cell_type": "markdown",
   "id": "2b2a98a7",
   "metadata": {},
   "source": [
    "**Exercise 8.1** Update the above plot to:\n",
    "\n",
    "1. Have age in years instead of months.\n",
    "2. Color patients based on gender (or another clinical variable of your choosing)\n",
    "3. Have a side-by-side second plot with a different protein of your choosing"
   ]
  },
  {
   "cell_type": "code",
   "execution_count": null,
   "id": "0a02927d",
   "metadata": {},
   "outputs": [],
   "source": [
    "# create plot here"
   ]
  },
  {
   "cell_type": "markdown",
   "id": "392e7cd4",
   "metadata": {},
   "source": [
    "## (9) Saving Plots\n",
    "Remember, to save a plot, we can call plt.savefig() instead of the plt.show()."
   ]
  },
  {
   "cell_type": "code",
   "execution_count": 157,
   "id": "d83d3ddc",
   "metadata": {},
   "outputs": [
    {
     "data": {
      "image/png": "[encoded data removed]",
      "text/plain": [
       "<Figure size 640x480 with 1 Axes>"
      ]
     },
     "metadata": {},
     "output_type": "display_data"
    }
   ],
   "source": [
    "fig, ax = plt.subplots()\n",
    "\n",
    "sns.scatterplot( # x-axis\n",
    "    x = clinical_data.loc[:, \"Age.in.Month\"],\n",
    "    y = protein_data.loc[:, \"DYNLT3\"],# y-axis\n",
    "    legend = \"full\",  # show the legend\n",
    "    ax = ax  # necessary for when plotting more than 1 subplot\n",
    ")\n",
    "\n",
    "fig.suptitle('Age vs. DYNLT3')  # set title\n",
    "\n",
    "# age_scatter.png is a relative path so check your working directory before running it\n",
    "plt.savefig('age_scatter.png', bbox_inches='tight')"
   ]
  },
  {
   "cell_type": "markdown",
   "id": "bb00966a",
   "metadata": {},
   "source": [
    "# Exercises\n",
    "Only this section will be graded!\n",
    "## 1. Drawing Connections\n",
    "1. Choose a clinical variable and segment the cohort into two groups. \n",
    "2. Find out what the 5 most differentially expressed genes are (we aren't going to do this in a sophisticated way like DESeq, instead just take the mean expression of every single gene within a group and find the gene which has the greatest difference in mean between the two groups)\n",
    "3. Create two scatter plots, side by side, each with one group. Within the scatter plots, plot RNA expression versus protein expression for each of the genes in a different color.\n",
    "4. Add appropriate legend, title, and labels."
   ]
  },
  {
   "cell_type": "code",
   "execution_count": 155,
   "id": "db07b231",
   "metadata": {},
   "outputs": [
    {
     "data": {
      "image/png": "[encoded data removed]",
      "text/plain": [
       "<Figure size 1400x700 with 2 Axes>"
      ]
     },
     "metadata": {},
     "output_type": "display_data"
    }
   ],
   "source": [
    "import numpy as np\n",
    "import pandas as pd\n",
    "import matplotlib.pyplot as plt\n",
    "\n",
    "# segment based on old and young\n",
    "# finding the 5 most differentially expressed genes between 'Young' and 'Old'\n",
    "gene_mean_diff = (rna_data.loc[young_mask.index].mean() - rna_data.loc[old_mask.index].mean()).abs()\n",
    "top_5_genes = gene_mean_diff.nlargest(5).index.tolist()\n",
    "\n",
    "# create scatter plots for RNA vs protein expression of the top 5 genes\n",
    "fig, axs = plt.subplots(1, 2, figsize=(14, 7), sharey=True)\n",
    "\n",
    "# checking that the genes exist in both dataframes and that the masks are correct\n",
    "for gene in top_5_genes:\n",
    "    if gene in rna_data.columns and gene in protein_data.columns:\n",
    "        axs[0].scatter(rna_data.loc[young_mask.index, gene],\n",
    "                       protein_data.loc[young_mask.index, gene], label=gene, alpha=0.5)\n",
    "    \n",
    "        axs[1].scatter(rna_data.loc[old_mask.index, gene],\n",
    "                       protein_data.loc[old_mask.index, gene], label=gene, alpha=0.5)\n",
    "\n",
    "# 4. Add legends, titles, and labels\n",
    "axs[0].set_title('RNA vs Protein Expression in Young')\n",
    "axs[0].set_xlabel('RNA Expression')\n",
    "axs[0].set_ylabel('Protein Expression')\n",
    "axs[0].legend()\n",
    "\n",
    "axs[1].set_title('RNA vs Protein Expression in Old')\n",
    "axs[1].set_xlabel('RNA Expression')\n",
    "axs[1].legend()\n",
    "\n",
    "plt.tight_layout()\n",
    "plt.show()\n"
   ]
  },
  {
   "cell_type": "markdown",
   "id": "d374d6f3",
   "metadata": {},
   "source": [
    "## 2. Interpretation Skills\n",
    "This section is short-answer based written responses. Please respond in 2-3 sentences to each question below for full credit.\n",
    "1. What do the numbers within the protein and transcriptomics DataFrames represent? Why do we represent them this way?\n",
    "2. Why are there fewer columns in the protein DataFrame than the transcriptomics one?\n",
    "3. Explain how the central dogma may be broken in between DNA -> RNA -> Proteins and how this might affect our proteomics data.\n",
    "4. Why is proteomics data relatively scarce compared to sequencing data?\n",
    "5. Should we ever expect protein expression to be 0 in a tumor sample?\n",
    "6. What are protein domains and how do they relate to the role of a protein?\n"
   ]
  },
  {
   "cell_type": "markdown",
   "id": "ffd80119-9098-4694-9d8a-3bf6da5e883c",
   "metadata": {},
   "source": [
    "# Answers to Part 2\n",
    "1. The numbers within the protein and transcriptomics dataframes represent the expression levels of proteins and RNA transcripts, respectively. They are usually represented as relative abundance or normalized read counts to allow comparison across samples. This representation is crucial for identifying differentially expressed genes and understanding the biological processes affected by changes in gene and protein expression.\n",
    "\n",
    "2. There are fewer columns in the protein DataFrame than the transcriptomics one because not all RNA transcripts are translated into proteins, and protein abundance is typically measured for a more selective set of known proteins of interest. Additionally, the detection techniques for proteins (e.g., mass spectrometry) have limitations and may not cover as many proteins as transcriptomics technologies (e.g., RNA-Seq) cover transcripts.\n",
    "\n",
    "3. The central dogma may be broken in various ways, such as through post-transcriptional modifications, alternative splicing, or post-translational modifications that affect protein structure and function. These processes can result in multiple protein isoforms from a single gene or modify the protein after translation, which might not directly correlate with RNA expression levels, thereby affecting our proteomics data.\n",
    "\n",
    "4. Proteomics data is relatively scarce compared to sequencing data because proteomics technologies, like mass spectrometry, are generally more complex, expensive, and require higher sample quality. Additionally, proteome analysis is technically challenging due to the wide range of protein abundances and the complexity of protein modifications.\n",
    "\n",
    "5. Protein expression might be very low or undetectable in a tumor sample for several reasons, such as the gene not being expressed in the specific tissue type, gene silencing mechanisms at play (e.g., methylation), the protein being degraded, or the limitations of the detection methods used.\n",
    "\n",
    "6. Protein domains are distinct functional and/or structural units within a protein, typically associated with a particular role, such as binding DNA, RNA, or other proteins. They are critical to the role of a protein because the combination of domains determines the overall function and interaction capabilities of the protein within the cell."
   ]
  },
  {
   "cell_type": "markdown",
   "id": "6b5fe38f",
   "metadata": {},
   "source": [
    "## 3. Challenge Exercise - Incorporating Genomics\n",
    "This exercise is optional and is worth extra credit up to 5 points. The combined extra credit between challenge exercises will cap out at 5 points total.\n",
    "<br></br>\n",
    "We can get somatic mutation data for cptac patients the same way we get proteomics, transcriptomical, or clinical. Let's explore some aspects of it.\n",
    "1. Save the cancer somatic mutation data to `mutation_data`\n",
    "2. Determine the top 10 most commonly mutated genes within the dataset.\n",
    "3. Determine what percent of patients have a mutation in at least one of those genes.\n",
    "4. Create a bar plot that shows percent percent of patients that have exactly 0-10 out of 10 of those mutations. Name axes and titles appropriately."
   ]
  }
 ],
 "metadata": {
  "kernelspec": {
   "display_name": "Python 3 (ipykernel)",
   "language": "python",
   "name": "python3"
  },
  "language_info": {
   "codemirror_mode": {
    "name": "ipython",
    "version": 3
   },
   "file_extension": ".py",
   "mimetype": "text/x-python",
   "name": "python",
   "nbconvert_exporter": "python",
   "pygments_lexer": "ipython3",
   "version": "3.9.19"
  }
 },
 "nbformat": 4,
 "nbformat_minor": 5
}
