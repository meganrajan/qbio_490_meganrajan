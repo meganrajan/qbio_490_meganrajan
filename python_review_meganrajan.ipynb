{
 "cells": [
  {
   "cell_type": "markdown",
   "id": "fdbe32b5-d8ab-4666-843f-e7ce882ce663",
   "metadata": {},
   "source": [
    "After speaking with Kayla and Mahija, we determined that the source of my code not running is due to my mac being from 2016. Because of this, I kept getting the \"kernel is restarting\" error and all of my ML code was not able to run. Due to this, I wasn't able to directly find any bugs from running the code."
   ]
  },
  {
   "cell_type": "markdown",
   "id": "7e270082-4f59-4afc-9ee6-623b06adb6e0",
   "metadata": {},
   "source": [
    "# Setting Working Directory"
   ]
  },
  {
   "cell_type": "code",
   "execution_count": 2,
   "id": "a3431cf3-af5f-469c-98cf-dc31231cb8ee",
   "metadata": {},
   "outputs": [],
   "source": [
    "import os\n",
    "\n",
    "os.chdir('/Users/meganrajan/Documents/qbio490/qbio_490_meganrajan/analysis_data')"
   ]
  },
  {
   "cell_type": "markdown",
   "id": "188502c2-4a86-4ab2-a112-6d3dd53a7e7d",
   "metadata": {},
   "source": [
    "Importing Libraries"
   ]
  },
  {
   "cell_type": "code",
   "execution_count": 3,
   "id": "18f95c88-210f-4bae-b0d2-80980e8e4c64",
   "metadata": {},
   "outputs": [
    {
     "name": "stdout",
     "output_type": "stream",
     "text": [
      "Checking that pdac index is up-to-date...\r"
     ]
    },
    {
     "name": "stderr",
     "output_type": "stream",
     "text": [
      "cptac warning: Your version of cptac (1.1.2) is out-of-date. Latest is 1.5.13. Please run 'pip install --upgrade cptac' to update it. (/Users/meganrajan/miniconda3/envs/qbio_490_meganrajan/lib/python3.9/threading.py, line 917)\n"
     ]
    },
    {
     "name": "stdout",
     "output_type": "stream",
     "text": [
      "                                         \r"
     ]
    }
   ],
   "source": [
    "# 1. Import cptac\n",
    "import cptac\n",
    "\n",
    "# 2. Examine the data sets available with list_datasets()\n",
    "cptac.list_datasets()\n",
    "\n",
    "# 3. Download the cancer data set -- fill in dataset!\n",
    "# cptac.download(dataset=\"pdac\")\n",
    "\n",
    "# 4. Load the cancer data\n",
    "pdac = cptac.Pdac()"
   ]
  },
  {
   "cell_type": "markdown",
   "id": "413785a2-f0a3-4606-a656-2a42eb54717d",
   "metadata": {},
   "source": [
    "Creating separate variables to store each aspect of the pdac dataset. "
   ]
  },
  {
   "cell_type": "code",
   "execution_count": 6,
   "id": "f191d4c3-8467-4c48-9422-c352fcb26ee3",
   "metadata": {},
   "outputs": [],
   "source": [
    "import pandas as pd\n",
    "import numpy as np\n",
    "\n",
    "clinical_data = pdac.get_clinical()\n",
    "proteomics_data = pdac.get_proteomics()\n",
    "transcriptomics_data = pdac.get_transcriptomics()\n",
    "\n",
    "transcriptomics_data_log = np.log2(transcriptomics_data + 1)  # Adding 1 to avoid log(0)\n",
    "\n",
    "clinical_filtered = clinical_data[clinical_data['tumor_stage_pathological'].isin(['Stage I', 'Stage III'])]\n",
    "proteomics_filtered = proteomics_data.loc[clinical_filtered.index]\n",
    "transcriptomics_filtered = transcriptomics_data_log.loc[clinical_filtered.index]\n",
    "\n",
    "def find_top_differentials(data, clinical_data, num_features=5):\n",
    "    stage_I = data.loc[clinical_data['tumor_stage_pathological'] == 'Stage I']\n",
    "    stage_III = data.loc[clinical_data['tumor_stage_pathological'] == 'Stage III']\n",
    "    \n",
    "    mean_diffs = (stage_I.mean() - stage_III.mean()).abs()\n",
    "    top_differentials = mean_diffs.nlargest(num_features).index.tolist()\n",
    "    \n",
    "    return top_differentials\n",
    "\n",
    "top_5_proteins = find_top_differentials(proteomics_filtered, clinical_filtered)\n",
    "top_5_rnas = find_top_differentials(transcriptomics_filtered, clinical_filtered)\n",
    "\n",
    "combined_genes = list(set(top_5_proteins + top_5_rnas))"
   ]
  },
  {
   "cell_type": "code",
   "execution_count": 7,
   "id": "c93e1fb8-a031-46df-9496-87e1667e8216",
   "metadata": {},
   "outputs": [],
   "source": [
    "combined_genes = ['A1BG', 'A1CF', 'A1BG-AS1', 'A2M', 'A2ML1', 'A4GALT', 'A2M-AS1']\n",
    "\n",
    "# init arrary\n",
    "X_data = pd.DataFrame(index=clinical_filtered.index)\n",
    "\n",
    "# loop thru \n",
    "for gene in combined_genes:\n",
    "    if gene in proteomics_data.columns:\n",
    "        X_data[gene + '_prot'] = proteomics_filtered[gene]\n",
    "    \n",
    "    if gene in transcriptomics_data.columns:\n",
    "        X_data[gene + '_rna'] = transcriptomics_filtered[gene]\n",
    "\n"
   ]
  },
  {
   "cell_type": "markdown",
   "id": "37e58735-ba9a-48fe-b953-3a657a497c56",
   "metadata": {},
   "source": [
    "3) Create a separate list of the patients’ cancer stages, ie. tumor_stage_pathological (y data)."
   ]
  },
  {
   "cell_type": "code",
   "execution_count": 8,
   "id": "943f9659-d89f-4abd-9d58-236bfcdbe293",
   "metadata": {},
   "outputs": [
    {
     "name": "stdout",
     "output_type": "stream",
     "text": [
      "Patient_ID\n",
      "C3L-00102    Stage III\n",
      "C3L-00598    Stage III\n",
      "C3L-00625    Stage III\n",
      "C3L-01124    Stage III\n",
      "C3L-01662    Stage III\n",
      "Name: tumor_stage_pathological, dtype: object\n"
     ]
    }
   ],
   "source": [
    "# extract the cancer stages for the patients in X_data\n",
    "y_data = clinical_filtered['tumor_stage_pathological']\n",
    "\n",
    "# display the first few entries to verify\n",
    "print(y_data.head())"
   ]
  },
  {
   "cell_type": "markdown",
   "id": "9d3f9714-f3ca-4273-a148-848c157a0ae7",
   "metadata": {},
   "source": [
    "# Scaling and Encoding"
   ]
  },
  {
   "cell_type": "code",
   "execution_count": 9,
   "id": "f2d55f51-af3c-4ea0-b656-5a105d132c62",
   "metadata": {},
   "outputs": [
    {
     "name": "stdout",
     "output_type": "stream",
     "text": [
      "            A1BG_prot  A1BG_rna  A1CF_prot  A1CF_rna  A1BG-AS1_rna  A2M_prot  \\\n",
      "Patient_ID                                                                     \n",
      "C3L-00102    0.768001  1.292106  -0.699052  0.513265     -0.774917  2.139522   \n",
      "C3L-00598    1.788376 -1.625292  -0.521252 -2.666078     -2.381984 -0.216494   \n",
      "C3L-00625    1.240868  0.530270  -0.340637 -0.098307      0.611999  0.999953   \n",
      "C3L-01124    0.408271 -0.437940   0.042364  0.623502      0.586025 -0.665417   \n",
      "C3L-01662   -0.471062 -0.558806   1.098742  0.577210     -0.985918 -1.394530   \n",
      "\n",
      "             A2M_rna  A2ML1_prot  A2ML1_rna  A4GALT_prot  A4GALT_rna  \\\n",
      "Patient_ID                                                             \n",
      "C3L-00102   0.459260   -0.208410   0.441047          NaN   -0.175757   \n",
      "C3L-00598  -1.086554    2.869159   1.796662          NaN    0.709494   \n",
      "C3L-00625   1.300586   -0.064713  -1.216539          NaN    0.666852   \n",
      "C3L-01124  -0.273611   -0.491213   0.538500          NaN   -0.404821   \n",
      "C3L-01662  -0.750367   -0.771899  -0.288399          NaN   -0.051194   \n",
      "\n",
      "            A2M-AS1_rna  \n",
      "Patient_ID               \n",
      "C3L-00102     -0.883046  \n",
      "C3L-00598     -0.307670  \n",
      "C3L-00625     -0.152832  \n",
      "C3L-01124     -0.047335  \n",
      "C3L-01662     -1.314473  \n",
      "[0 0 0 0 0]\n"
     ]
    }
   ],
   "source": [
    "from sklearn.preprocessing import StandardScaler, LabelEncoder\n",
    "\n",
    "scaler = StandardScaler()\n",
    "encoder = LabelEncoder()\n",
    "\n",
    "# scale\n",
    "X_scaled = scaler.fit_transform(X_data)\n",
    "\n",
    "# encode\n",
    "\n",
    "y_encoded = encoder.fit_transform(y_data)\n",
    "\n",
    "# add scaled data to dataframe\n",
    "X_scaled_df = pd.DataFrame(X_scaled, columns=X_data.columns, index=X_data.index)\n",
    "\n",
    "# Show the first few rows of the scaled features and encoded target\n",
    "print(X_scaled_df.head())\n",
    "print(y_encoded[:5])\n"
   ]
  },
  {
   "cell_type": "markdown",
   "id": "13c0558d-da6a-45bb-b9b8-5c8b10e8295b",
   "metadata": {},
   "source": [
    "# Train - Test Split"
   ]
  },
  {
   "cell_type": "code",
   "execution_count": 12,
   "id": "03e4b939-82e1-493b-bd24-fb11d1dae398",
   "metadata": {},
   "outputs": [
    {
     "data": {
      "text/html": [
       "<div>\n",
       "<style scoped>\n",
       "    .dataframe tbody tr th:only-of-type {\n",
       "        vertical-align: middle;\n",
       "    }\n",
       "\n",
       "    .dataframe tbody tr th {\n",
       "        vertical-align: top;\n",
       "    }\n",
       "\n",
       "    .dataframe thead th {\n",
       "        text-align: right;\n",
       "    }\n",
       "</style>\n",
       "<table border=\"1\" class=\"dataframe\">\n",
       "  <thead>\n",
       "    <tr style=\"text-align: right;\">\n",
       "      <th></th>\n",
       "      <th>A1BG_prot</th>\n",
       "      <th>A1BG_rna</th>\n",
       "      <th>A1CF_prot</th>\n",
       "      <th>A1CF_rna</th>\n",
       "      <th>A1BG-AS1_rna</th>\n",
       "      <th>A2M_prot</th>\n",
       "      <th>A2M_rna</th>\n",
       "      <th>A2ML1_prot</th>\n",
       "      <th>A2ML1_rna</th>\n",
       "      <th>A4GALT_prot</th>\n",
       "      <th>A4GALT_rna</th>\n",
       "      <th>A2M-AS1_rna</th>\n",
       "    </tr>\n",
       "    <tr>\n",
       "      <th>Patient_ID</th>\n",
       "      <th></th>\n",
       "      <th></th>\n",
       "      <th></th>\n",
       "      <th></th>\n",
       "      <th></th>\n",
       "      <th></th>\n",
       "      <th></th>\n",
       "      <th></th>\n",
       "      <th></th>\n",
       "      <th></th>\n",
       "      <th></th>\n",
       "      <th></th>\n",
       "    </tr>\n",
       "  </thead>\n",
       "  <tbody>\n",
       "    <tr>\n",
       "      <th>C3L-04495</th>\n",
       "      <td>-0.287694</td>\n",
       "      <td>0.348168</td>\n",
       "      <td>0.616971</td>\n",
       "      <td>0.527305</td>\n",
       "      <td>0.063042</td>\n",
       "      <td>-0.532384</td>\n",
       "      <td>0.575585</td>\n",
       "      <td>-0.516936</td>\n",
       "      <td>0.116699</td>\n",
       "      <td>-0.556454</td>\n",
       "      <td>-0.817089</td>\n",
       "      <td>0.841702</td>\n",
       "    </tr>\n",
       "    <tr>\n",
       "      <th>C3N-03853</th>\n",
       "      <td>0.563852</td>\n",
       "      <td>-1.468778</td>\n",
       "      <td>0.396759</td>\n",
       "      <td>0.738249</td>\n",
       "      <td>-1.912184</td>\n",
       "      <td>0.054646</td>\n",
       "      <td>0.003123</td>\n",
       "      <td>-0.698128</td>\n",
       "      <td>0.132536</td>\n",
       "      <td>-0.684315</td>\n",
       "      <td>-0.546884</td>\n",
       "      <td>-1.485782</td>\n",
       "    </tr>\n",
       "    <tr>\n",
       "      <th>C3N-04126</th>\n",
       "      <td>-0.113697</td>\n",
       "      <td>0.209781</td>\n",
       "      <td>1.297216</td>\n",
       "      <td>0.400467</td>\n",
       "      <td>0.463202</td>\n",
       "      <td>0.015162</td>\n",
       "      <td>-0.420453</td>\n",
       "      <td>1.879075</td>\n",
       "      <td>1.178788</td>\n",
       "      <td>-0.486936</td>\n",
       "      <td>0.415214</td>\n",
       "      <td>0.109233</td>\n",
       "    </tr>\n",
       "    <tr>\n",
       "      <th>C3N-04283</th>\n",
       "      <td>1.115155</td>\n",
       "      <td>0.116764</td>\n",
       "      <td>0.818080</td>\n",
       "      <td>-0.885342</td>\n",
       "      <td>-0.639117</td>\n",
       "      <td>0.445902</td>\n",
       "      <td>-2.924896</td>\n",
       "      <td>0.599181</td>\n",
       "      <td>1.057887</td>\n",
       "      <td>1.727705</td>\n",
       "      <td>1.598390</td>\n",
       "      <td>-1.501620</td>\n",
       "    </tr>\n",
       "  </tbody>\n",
       "</table>\n",
       "</div>"
      ],
      "text/plain": [
       "            A1BG_prot  A1BG_rna  A1CF_prot  A1CF_rna  A1BG-AS1_rna  A2M_prot  \\\n",
       "Patient_ID                                                                     \n",
       "C3L-04495   -0.287694  0.348168   0.616971  0.527305      0.063042 -0.532384   \n",
       "C3N-03853    0.563852 -1.468778   0.396759  0.738249     -1.912184  0.054646   \n",
       "C3N-04126   -0.113697  0.209781   1.297216  0.400467      0.463202  0.015162   \n",
       "C3N-04283    1.115155  0.116764   0.818080 -0.885342     -0.639117  0.445902   \n",
       "\n",
       "             A2M_rna  A2ML1_prot  A2ML1_rna  A4GALT_prot  A4GALT_rna  \\\n",
       "Patient_ID                                                             \n",
       "C3L-04495   0.575585   -0.516936   0.116699    -0.556454   -0.817089   \n",
       "C3N-03853   0.003123   -0.698128   0.132536    -0.684315   -0.546884   \n",
       "C3N-04126  -0.420453    1.879075   1.178788    -0.486936    0.415214   \n",
       "C3N-04283  -2.924896    0.599181   1.057887     1.727705    1.598390   \n",
       "\n",
       "            A2M-AS1_rna  \n",
       "Patient_ID               \n",
       "C3L-04495      0.841702  \n",
       "C3N-03853     -1.485782  \n",
       "C3N-04126      0.109233  \n",
       "C3N-04283     -1.501620  "
      ]
     },
     "execution_count": 12,
     "metadata": {},
     "output_type": "execute_result"
    }
   ],
   "source": [
    "# drop rows where any row has a NaN value + corresponing y-enc rows\n",
    "X_scaled_df = X_scaled_df.dropna()\n",
    "X_scaled_df\n",
    "y_encoded = y_encoded[X_scaled_df.index]\n"
   ]
  },
  {
   "cell_type": "markdown",
   "id": "1c7d39c1-579e-4bf4-80a9-7bc2eb1d6b29",
   "metadata": {},
   "source": [
    "# Test Code of 4 Different Classifiers"
   ]
  },
  {
   "cell_type": "code",
   "execution_count": null,
   "id": "00a62146-e846-48e5-9d0e-0261268f55e5",
   "metadata": {},
   "outputs": [],
   "source": [
    "from sklearn.model_selection import train_test_split\n",
    "from sklearn.neighbors import KNeighborsClassifier\n",
    "from sklearn.tree import DecisionTreeClassifier\n",
    "from sklearn.neural_network import MLPClassifier\n",
    "from sklearn.naive_bayes import GaussianNB\n",
    "from sklearn.metrics import accuracy_score\n",
    "\n",
    "classifiers = {\n",
    "    \"KNeighbors\": KNeighborsClassifier(),\n",
    "    \"DecisionTree\": DecisionTreeClassifier(),\n",
    "    \"MLP\": MLPClassifier(max_iter=1000),\n",
    "    \"GaussianNB\": GaussianNB()\n",
    "}\n",
    "\n",
    "accuracies = {name: [] for name in classifiers}\n",
    "\n",
    "num_runs = 10\n",
    "\n",
    "# loop over each classifier\n",
    "for name, clf in classifiers.items():\n",
    "    for i in range(num_runs):\n",
    "        \n",
    "        X_train, X_test, y_train, y_test = train_test_split(X_dropped, y_dropped, test_size=0.25, random_state=i)\n",
    "        \n",
    "        clf.fit(X_train, y_train)\n",
    "        y_pred = clf.predict(X_test)\n",
    "        \n",
    "        accuracy = accuracy_score(y_test, y_pred)\n",
    "        accuracies[name].append(accuracy)"
   ]
  },
  {
   "cell_type": "markdown",
   "id": "bf793e3a-5f3e-476b-8b58-212f066d43c8",
   "metadata": {},
   "source": [
    "# Find accuracy of different classifiers and compare"
   ]
  },
  {
   "cell_type": "code",
   "execution_count": null,
   "id": "ac3347d2-0e51-4ed6-b529-0b85c6d6636b",
   "metadata": {},
   "outputs": [],
   "source": [
    "mean_accuracies = {name: np.mean(acc) for name, acc in accuracies.items()}\n",
    "\n",
    "# sort to compare\n",
    "sorted_classifiers = sorted(mean_accuracies.items())\n",
    "\n",
    "for name, accuracy in sorted_classifiers:\n",
    "    print(f\"{name}: {accuracy:.4f}\")\n",
    "\n",
    "best_model_name, best_model_accuracy = sorted_classifiers[0]\n",
    "\n",
    "best_model_name"
   ]
  },
  {
   "cell_type": "markdown",
   "id": "c6a2d10d-40d0-45a9-9b5b-1fd3aee3d1bf",
   "metadata": {},
   "source": [
    "Because my code is not running, I am not able to detect any possible bugs or determine the actual worst and best model."
   ]
  }
 ],
 "metadata": {
  "kernelspec": {
   "display_name": "Python 3 (ipykernel)",
   "language": "python",
   "name": "python3"
  },
  "language_info": {
   "codemirror_mode": {
    "name": "ipython",
    "version": 3
   },
   "file_extension": ".py",
   "mimetype": "text/x-python",
   "name": "python",
   "nbconvert_exporter": "python",
   "pygments_lexer": "ipython3",
   "version": "3.9.19"
  }
 },
 "nbformat": 4,
 "nbformat_minor": 5
}
